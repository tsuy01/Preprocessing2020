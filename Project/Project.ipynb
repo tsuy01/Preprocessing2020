{
 "cells": [
  {
   "cell_type": "markdown",
   "metadata": {},
   "source": [
    "# Final Project\n",
    "## Stiopa Mikhailov\n",
    "### 23.11.2020\n",
    "\n",
    "I decided to base my final project on the second homework. So I will be adding some features to the database of Northern Khanty NPs, as well as some new visualizations. All the text from the previous HW is given in *italics*, while new text is plain. New parts of code will be prefixed with a comment with an \"# NEW:\". The following modifications to the code have been made:\n",
    "\n",
    "* The code that creates tables now takes all the tables from a given folder and creates a new table for each.\n",
    "\n",
    "* All parts of code that referred specifically to tables #1 and #2 were rewritten so that they work with all tables.\n",
    "\n",
    "* Added plots 5-7 (section \"New Plots\" near the end of the notebook).\n",
    "\n",
    "* Added code for 2 dataframes needed to build plots 5-7.\n",
    "\n",
    "In the end I added less features than I planned to add, because these ended up being much more challenging than I would expect. Still I managed to derive interesting new observations given these modifications, so from a personal point of view I consider this project successful. =^)\n",
    "\n",
    "*In this homework I'm using two tables that correspond to NPs extracted from two texts of the Northern Khanty corpus by E. V. Kashkin and marked-up for some 19 parameters of NPs relevant to possessive marking. The data initially come in Excel tables with 3 sheets. First, I extracted the relevant sheet with marked-up NPs by hand.*"
   ]
  },
  {
   "cell_type": "code",
   "execution_count": 144,
   "metadata": {},
   "outputs": [],
   "source": [
    "import os\n",
    "import csv\n",
    "import sqlite3\n",
    "\n",
    "# connecting to the database / creating it if it's not there yet\n",
    "conn = sqlite3.connect('khanty.db')\n",
    "\n",
    "# creating a cursor object we will be sending our queries to\n",
    "c = conn.cursor()\n",
    "\n",
    "# list of table numbers for later use\n",
    "tab_num = []\n",
    "\n",
    "# NEW: openning all tables from a folder (+ OLD: creating tables)\n",
    "w = 1\n",
    "with os.scandir('C:/Users/Неро/Preprocessing 2020/SM.Preprocessing/Project/Texts/') as entries:\n",
    "    for entry in entries:\n",
    "        tab_num.append(w)\n",
    "        tabcom = \"drop table if exists text%s\" % w # a variable for commands with adjustable parts\n",
    "        c.execute(tabcom)\n",
    "        tabcom = \"CREATE TABLE IF NOT EXISTS text%s(NP_ID text, NP_Morph text, NP_Gloss text, ASP text, CNJ text, POS text, PSS text, PHI text, SEM text, MRK text, DRV text, DET text, NPS bool, NUM text, ANM text, SYN text, DEF bool, REF bool)\" % w\n",
    "        c.execute(tabcom)\n",
    "        with open(entry, newline='', encoding = 'UTF-8') as csvfile:\n",
    "            spamreader = csv.reader(csvfile, delimiter='\\t', quotechar='|')\n",
    "            for row in spamreader:\n",
    "                x = row[1]\n",
    "                y = row[2]\n",
    "                z = row[3]\n",
    "                a = row[4]\n",
    "                b = row[5]\n",
    "                d = row[6]\n",
    "                e = row[7]\n",
    "                g = row[8]\n",
    "                f = row[0]\n",
    "                h = row[9]\n",
    "                i = row[10]\n",
    "                j = row[11]\n",
    "                k = row[12]\n",
    "                l = row[13]\n",
    "                m = row[14]\n",
    "                n = row[15]\n",
    "                o = row[16]\n",
    "                p = row[17]\n",
    "                tabcom = 'INSERT INTO text%s VALUES (?, ?, ?, ?, ?, ?, ?, ?, ?, ?, ?, ?, ?, ?, ?, ?, ?, ?)' % w \n",
    "                c.execute(tabcom, (f, x, y, z, a, b, d, e, g, h, i, j, k, l, m, n, o, p))\n",
    "        tabcom = \"delete from text%s where PHI = 'PHI'\" % w\n",
    "        c.execute(tabcom) # delete the first row which contains column names\n",
    "        tabcom = \"delete from text%s where PHI = ''\" % w\n",
    "        c.execute(tabcom) # delete all null rows that somehow found their way into the table\n",
    "        conn.commit()\n",
    "        w = w + 1"
   ]
  },
  {
   "cell_type": "code",
   "execution_count": 145,
   "metadata": {},
   "outputs": [
    {
     "name": "stdout",
     "output_type": "stream",
     "text": [
      "1\n",
      "[('CH00001', 'mɔś', 'сказка', 'i', 'sbj', 's', '0', 'n', 'n', 'nul', 'nul', 'nul', 0, 's', 'non', 'obj', 0, 0), ('CH00002', 'iki', 'мужчина', 'i', 'sbj', 's', '0', 'n', 'n', 'nul', 'nul', 'nul', 0, 's', 'hum', 'sbj', 0, 1)]\n",
      "2\n",
      "[('DE00001', 'kǫrt -ən', 'деревня LOC', 'p', 'n', 's', '0', 'n', 'n', 'loc', 'nul', 'nul', 0, 's', 'non', 'iob', 0, 1), ('DE00002', 'ńawrԑm -əŋ', 'ребенок ATTR', 'p', 'n', 's', '0', 'n', 'n', 'nul', 'atr', 'nul', 0, 's', 'hum', 'attr', 0, 0)]\n",
      "3\n",
      "[('DY00001', 'xɔŋra', 'дятел', 'n', 'n', 's', '0', 'n', 'n', 'nul', 'nul', 'nul', 0, 's', 'anm', 'nul', 1, 1), ('DY00101', 'puš', 'раз', 'p', 'sbj', 's', '0', 'n', 'n', 'nul', 'nul', 'i', 0, 's', 'non', 'attr', 0, 1)]\n",
      "4\n",
      "[('FI00001', 'makla', 'филин', 'n', 'n', 's', '0', 'n', 'n', 'nul', 'nul', 'nul', 0, 's', 'anm', 'nul', 1, 1), ('FI00101', 'sus -n', 'осень LOC', 'i', 'sbj', 's', '0', 'n', 'n', 'loc', 'nul', 'nul', 0, 's', 'non', 'iob', 0, 0)]\n",
      "5\n",
      "[('SG00101', 'šɔwər', 'заяц', 'i', 'sbj', 's', '0', 'n', 'n', 'nul', 'nul', 'nul', 0, 's', 'anm', 'sbj', 1, 1), ('SG00102', 'šɔwər ime -ł', 'заяц жена 3SG', 'i', 'sbj', 's', '1', '3s', 'fam', 'psp', 'nul', 'nul', 1, 's', 'anm', 'pob', 1, 1)]\n",
      "6\n",
      "[('KA00001', 'rutʼśə -ti xătł -ət', 'отдыхать IPFV.PART день PL', 'n', 'n', 's', '0', 'n', 'n', 'nul', 'nul', 'nul', 0, 'p', 'non', 'nul', 0, 1), ('KA00101', 'miša -j -en', 'Миша STEM 2SG', 'i', 'sbj', 'a', '1', '2s', 'dis', 'nul', 'nul', 'nul', 0, 's', 'hum', 'sbj', 1, 1)]\n",
      "7\n",
      "[('KI00001', 'kar', 'Кар', 'n', 'n', 'a', '0', 'n', 'n', 'nul', 'nul', 'nul', 0, 's', 'hum', 'nul', 1, 1), ('KI00002', 'kar iki', 'Кар мужчина', 'n', 'n', 'a', '0', 'n', 'n', 'nul', 'nul', 'nul', 0, 's', 'hum', 'nul', 1, 1)]\n",
      "8\n",
      "[('KS00001', 'śempər', 'щемпэр', 'n', 'n', 'p', '0', 'n', 'n', 'nul', 'nul', 'nul', 0, 's', 'non', 'gen', 1, 1), ('KS00002', 'śempər kew', 'щемпэр камень', 'n', 'n', 'p', '0', 'n', 'n', 'nul', 'nul', 'nul', 0, 's', 'non', 'nul', 1, 1)]\n",
      "9\n",
      "[('LL00001', 'ńăłməŋ woxsar', 'лживый лиса', 'n', 'sbj', 's', '0', 'n', 'n', 'nul', 'nul', 'nul', 0, 's', 'anm', 'nul', 1, 1), ('LL00101', 'xănti', 'ханты', 'n', 'sbj', 's', '0', 'n', 'n', 'nul', 'nul', 'nul', 0, 's', 'hum', 'gen', 1, 1)]\n",
      "10\n",
      "[('MD00001', 'xătəł', 'солнце', 'n', 'n', 's', '0', 'n', 'n', 'nul', 'nul', 'nul', 0, 's', 'non', 'gen', 1, 1), ('MD00002', 'xătəł aj ewi -je', 'солнце маленький дочь DIM', 'n', 'n', 's', '0', 'n', 'n', 'nul', 'dim', 'nul', 1, 's', 'hum', 'nul', 0, 1)]\n",
      "11\n",
      "[('MT00001', 'jetən', 'вечер', 'n', 'n', 's', '0', 'n', 'n', 'nul', 'nul', 'nul', 0, 's', 'non', 'gen', 0, 0), ('MT00002', 'jetən xătəł', 'вечер солнце', 'n', 'n', 's', '0', 'n', 'n', 'nul', 'nul', 'nul', 1, 's', 'non', 'gen', 0, 0)]\n",
      "12\n",
      "[('MZ00001', 'aj wɔj -leŋki', 'маленький зверь DIM', 'i', 'sbj', 's', '0', 'n', 'n', 'nul', 'dim', 'nul', 0, 's', 'anm', 'non', 0, 0), ('MZ00101', 'aŋke -n', 'мать 2SG', 'i', 'sbj', 's', '1', '2s', 'fam', 'nul', 'nul', 'nul', 0, 's', 'anm', 'attr', 1, 1)]\n",
      "13\n",
      "[('SG00001', 'sɔrt pa luk', 'щука и глухарь', 'n', 'n', 's', '0', 'n', 'n', 'nul', 'nul', 'nul', 0, 'pl', 'anm', 'nul', 0, 1), ('SG00002', 'sɔrt', 'щука', 'n', 'n', 's', 'i', 'n', 'n', 'nul', 'nul', 'nul', 0, 's', 'anm', 'nul', 0, 1)]\n",
      "14\n",
      "[('HUJ00001', 'xojtoŋkistan', 'Хуйтункистан', 'n', 'n', 's', '0', 'n', 'n', 'nul', 'nul', 'nul', 0, 's', 'non', 'nul', 1, 1), ('HUJ00102', 'jux -łi ńǫrəm', 'дерево CAR болото', 'i', 'sbj', 's', '0', 'n', 'n', 'psp', 'nul', 'nul', 0, 's', 'non', 'pob', 0, 1)]\n",
      "15\n",
      "[('ZV00001', 'łɔn', 'жила', 'i', 'sbj', 's', '0', 'n', 'n', 'nul', 'nul', 'nul', 0, 's', 'non', 'obj', 0, 0), ('ZV00002', 'imi', 'женщина', 'i', 'sbj', 's', '0', 'n', 'n', 'nul', 'nul', 'nul', 0, 's', 'hum', 'sbj', 0, 1)]\n"
     ]
    }
   ],
   "source": [
    "# This part checks whether we actually opened all of the tables and also shows their respective numbers\n",
    "\n",
    "for n in tab_num:\n",
    "    print(n)\n",
    "    tabcom = 'select * from text%s limit 2' % n\n",
    "    c.execute(tabcom)\n",
    "    print(c.fetchall())"
   ]
  },
  {
   "cell_type": "markdown",
   "metadata": {},
   "source": [
    "*I'm creating a table for each text here, since in our project part of the mark-up was done by hand for each text individually and it is easier to bring them all together into a single table using SQL queries rather than by hand. This way we can also compare different texts, in case the text is a variable that affects possessive marking.*"
   ]
  },
  {
   "cell_type": "code",
   "execution_count": 146,
   "metadata": {},
   "outputs": [
    {
     "name": "stdout",
     "output_type": "stream",
     "text": [
      "[('CH02501', 'năŋ taś -en', 'ты богатство 2SG', 'i', 'sbj', 's', '1', '2s', 'own', 'nul', 'nul', 'nul', 1, 's', 'non', 'sbj', 1, 1), ('CH02701', 'xɔt -en', 'дом 2SG', 'i', 'sbj', 's', '1', '2s', 'own', 'psp', 'nul', 'nul', 0, 's', 'non', 'pob', 1, 1), ('DE04101', 'tăm jis -en', 'этот век 2SG', 'p', 'sbj', 's', '1', '2s', 'n', 'nul', 'nul', 'nul', 0, 's', 'anm', '', 1, 1), ('DY00201', 'śi sus -en', 'этот осень 2SG', 'i', 'sbj', 's', '1', '2s', 'dis', 'nul', 'nul', 'si', 0, 's', 'non', 'subj', 1, 1), ('SG04801', 'jiłəp łiw -en', 'новый хвост 2SG', 'p', 'sbj', 's', '1', '2s', 'bod', 'nul', 'nul', 'nul', 0, 's', 'non', 'obj', 1, 1), ('KA00101', 'miša -j -en', 'Миша STEM 2SG', 'i', 'sbj', 'a', '1', '2s', 'dis', 'nul', 'nul', 'nul', 0, 's', 'hum', 'sbj', 1, 1), ('KA00501', 'miša -j -en -ən', 'Миша STEM 2SG LOC', 'i', 'sbj', 'a', '1', '2s', 'dis', 'loc', 'nul', 'nul', 0, 's', 'hum', 'iob', 1, 1), ('KA00801', 'miša -j -en', 'Миша STEM 2SG', 'i', 'sbj', 'a', '1', '2s', 'dis', 'nul', 'nul', 'nul', 0, 's', 'hum', 'sbj', 1, 1), ('KI00401', 'in iki -lԑ -n', 'этот мужчина DIM 2SG', 'p', 'sbj', 's', '1', '2s', 'dis', 'nul', 'dim', 'in', 0, 's', 'hum', 'sbj', 1, 1), ('KI00804', 'atełt kǫrt -en -ən', 'один избушка 2SG LOC', 'i', 'sbj', 's', '1', '2s', 'own', 'loc', 'nul', 'nul', 0, 's', 'non', 'iob', 1, 1), ('KI02304', 'atełt kǫrt -en -ən', 'один избушка 2SG LOC', 'p', 'sbj', 's', '1', '2s', 'own', 'loc', 'nul', 'nul', 0, 's', 'non', 'iob', 1, 1), ('KS01901', 'xɔt -en', 'дом 2SG', 'i', 'sbj', 's', '1', '2s', 'own', 'nul', 'nul', 'nul', 0, 's', 'non', 'sbj', 1, 1), ('KS04401', 'jiwewe -n', 'сводная сестра 2SG', 'p', 'obj', 's', '1', '2s', 'fam', 'nul', 'nul', 'nul', 0, 's', 'hum', 'obj', 1, 1), ('KS06001', 'pox -en', 'сын 2SG', 'p', 'sbj', 's', '1', '2s', 'dis', 'nul', 'nul', 'nul', 0, 's', 'hum', 'obj', 0, 0), ('KS06601', 'pox -en', 'сын 2SG', 'p', 'sbj', 's', '1', '2s', 'dis', 'nul', 'nul', 'nul', 0, 's', 'hum', 'obj', 0, 0), ('KS07201', 'pox -en', 'сын 2SG', 'p', 'sbj', 's', '1', '2s', 'dis', 'nul', 'nul', 'nul', 0, 's', 'hum', 'obj', 0, 0), ('KS09101', 'pox -en', 'сын 2SG', 'p', 'sbj', 's', '1', '2s', 'dis', 'nul', 'nul', 'nul', 0, 's', 'hum', 'obj', 0, 0), ('KS10201', 'pox -en', 'сын 2SG', 'p', 'sbj', 's', '1', '2s', 'dis', 'nul', 'nul', 'nul', 0, 's', 'hum', 'obj', 0, 0), ('KS13703', 'nin pox -en -a', 'вы сын 2SG DAT', 'p', 'obj', 's', '1', '2s', 'fam', 'dat', 'nul', 'nul', 0, 's', 'hum', 'iob', 1, 1), ('KS14301', 'put -en', 'котел 2SG', 'i', 'sbj', 's', '1', '2s', 'own', 'nul', 'nul', 'nul', 0, 's', 'non', 'gen', 1, 1), ('KS14304', 'xɔt -en', 'дом 2SG', 'i', 'sbj', 's', '1', '2s', 'own', 'nul', 'nul', 'nul', 0, 's', 'non', 'gen', 1, 1), ('KS15001', 'put -en', 'котел 2SG', 'i', 'sbj', 's', '1', '2s', 'own', 'nul', 'nul', 'nul', 0, 's', 'non', 'gen', 1, 1), ('KS15004', 'xɔt -en', 'дом 2SG', 'i', 'sbj', 's', '1', '2s', 'own', 'nul', 'nul', 'nul', 0, 's', 'non', 'gen', 1, 1), ('KS15703', 'tut -en', 'огонь 2SG', 'i', 'sbj', 's', '1', '2s', 'dis', 'nul', 'nul', 'nul', 0, 'nu', 'non', 'sbj', 0, 1), ('KS15704', 'put -en', ' котел 2SG', 'i', 'sbj', 's', '1', '2s', 'own', 'nul', 'nul', 'nul', 0, 's', 'non', 'gen', 1, 1), ('LL01201', 'moj -ł -an', 'что PL 2SG', 'p', 'sbj', 'q', '1', '2s', 'dis', 'nul', 'nul', 'nul', 0, 'p', 'non', 'obj', 0, 1), ('LL01402', 'wǫntər ɔłŋ -en', 'кишечник конец 2SG', 'p', 'obj', 's', '1', '2s', 'prt', 'psp', 'nul', 'nul', 1, 's', 'non', 'pob', 1, 1), ('LL01403', 'sǫł -ł -an', 'кишка PL 2SG', 'p', 'obj', 's', '1', '2s', 'bod', 'nul', 'nul', 'nul', 0, 'p', 'non', 'obj', 1, 1), ('MD00201', 'pox -en', 'сын 2SG', 'p', 'sbj', 's', '1', '2s', 'dis', 'nul', 'nul', 'nul', 0, 's', 'hum', 'sbj', 1, 1), ('MT00801', 'ewe -n', 'дочь 2SG', 'p', 'obj', 's', '1', '2s', 'fam', 'nul', 'nul', 'nul', 0, 's', 'hum', 'obj', 1, 1), ('MT05802', 'sapł -en -a', 'шея 2SG DAT', 'p', 'obj', 's', '1', '2s', 'bod', 'dat', 'nul', 'nul', 0, 's', 'non', 'iob', 1, 1), ('MT05901', 'śi šarp -en', 'этот шарф 2SG', 'p', 'obj', 's', '1', '2s', 'dis', 'nul', 'nul', 'si', 0, 's', 'non', 'obj', 1, 1), ('MT07901', 'wurśək -leŋke -n -ən', 'трясогузка DIM 2SG LOC', 'i', 'sbj', 's', '1', '2s', 'dis', 'loc', 'dim', 'nul', 0, 's', 'anm', 'iob', 1, 1), ('MT08003', 'mewł -en', 'грудь 2SG', 'p', 'sbj', 's', '1', '2s', 'bod', 'psp', 'nul', 'nul', 0, 's', 'non', 'pob', 1, 1), ('MT08004', 'łapət jintəp -en', 'семь игла 2SG', 'p', 'sbj', 's', '1', '2s', 'dis', 'nul', 'nul', 'nul', 0, 's', 'non', 'obj', 1, 1), ('MT08101', 'wurśək -leŋke -n', 'трясогузка DIM 2SG', 'p', 'sbj', 's', '1', '2s', 'dis', 'nul', 'dim', 'nul', 0, 's', 'anm', 'sbj', 1, 1), ('MT08401', 'wurśək -leŋke -n', 'трясогузка DIM 2SG', 'p', 'sbj', 's', '1', '2s', 'dis', 'nul', 'dim', 'nul', 0, 's', 'anm', 'sbj', 1, 1), ('MT09605', 'xătəł xɔn wɔš -en', 'солнце царь город 2SG', 'i', 'sbj', 's', '1', '2s', 'dis', 'nul', 'nul', 'nul', 1, 's', 'non', 'sbj', 1, 1), ('MT09802', 'łałʼ jɔx -ł -an', 'война люди PL 2SG', 'p', 'sbj', 's', '1', '2s', 'dis', 'nul', 'nul', 'nul', 1, 'p', 'hum', 'sbj', 1, 1), ('MT09902', 'jintəp -ł -an', 'игла PL 2SG', 'p', 'obj', 's', '1', '2s', 'dis', 'nul', 'nul', 'nul', 0, 'p', 'non', 'obj', 1, 1), ('MT10404', 'in łałʼ jɔx -ł -an', 'этот война люди PL 2SG', 'i', 'sbj', 's', '1', '2s', 'dis', 'nul', 'nul', 'in', 1, 'p', 'hum', 'gen', 1, 1), ('MT10901', 'śi ime -n', 'этот женщина 2SG', 'p', 'sbj', 's', '1', '2s', 'dis', 'nul', 'nul', 'si', 0, 's', 'hum', 'sbj', 1, 1), ('MT11003', 'tǫrəm xɔn ike -n', 'небо царь мужчина 2SG', 'i', 'sbj', 's', '1', '2s', 'dis', 'nul', 'nul', 'nul', 1, 's', 'hum', 'sbj', 1, 1), ('MT12102', 'śi xǫ -j -ł', 'этот мужчина STEM PL 2SG', 'p', 'sbj', 's', '1', '2s', 'dis', 'nul', 'nul', 'si', 0, 'p', 'hum', 'sbj', 1, 1), ('MZ00101', 'aŋke -n', 'мать 2SG', 'i', 'sbj', 's', '1', '2s', 'fam', 'nul', 'nul', 'nul', 0, 's', 'anm', 'attr', 1, 1), ('MZ00103', 'ox -ije -n', 'голова DIM 2SG', 'i', 'obj', 's', '1', '2s', 'bod', 'nul', 'dim', 'nul', 0, 's', 'non', 'obj', 1, 1), ('SG00101', 'sɔrt pa luk', 'щука и глухарь 2SG', 'i', 'sbj', 's', '1', '2s', 'dis', 'nul', 'nul', 'nul', 0, 'pl', 'anm', 'sbj', 1, 1), ('SG00201', 'luk -leŋke -n', 'глухарь DIM 2SG', 'i', 'n', 's', '1', '2s', 'dis', 'nul', 'dim', 'nul', 0, 's', 'anm', 'sbj', 1, 1), ('SG00202', 'sɔrt -en', 'щука 2SG', 'i', 'n', 's', '1', '2s', 'dis', 'nul', 'nul', 'nul', 0, 's', 'anm', 'sbj', 1, 1), ('SG00301', 'luk -en', 'глухарь 2SG', 'i', 'obj', 's', '1', '2s', 'dis', 'nul', 'nul', 'nul', 0, 's', 'anm', 'sbj', 1, 1), ('SG00401', 'sɔrt -en', 'щука 2SG', 'i', 'sbj', 's', '1', '2s', 'dis', 'nul', 'nul', 'nul', 0, 's', 'anm', 'sbj', 1, 1), ('SG00801', 'sɔrt -en', 'щука 2SG', 'i', 'sbj', 's', '1', '2s', 'dis', 'nul', 'nul', 'nul', 0, 's', 'anm', 'sbj', 1, 1), ('SG00804', 'luk -en', 'глухарь 2SG', 'i', 'sbj', 's', '1', '2s', 'dis', 'nul', 'nul', 'nul', 0, 's', 'anm', 'sbj', 1, 1), ('HUJ00601', 'in ike -n', 'этот мужчина 2SG', 'i', 'sbj', 's', '1', '2s', 'dis', 'nul', 'nul', 'in', 0, 's', 'hum', 'sbj', 1, 1), ('HUJ02703', 'owəs jorən wǫrt -en', 'север ненец Ворт 2SG', 'p', 'sbj', 's', '1', '2s', 'dis', 'nul', 'nul', 'nul', 0, 's', 'hum', 'gen', 1, 1), ('ZV01103', 'łɔn wԑr -ti ime -n', 'жила делать IPFV.PART женщина 2SG', 'p', 'obj', 's', '1', '2s', 'dis', 'nul', 'nul', 'nul', '', 's', 'hum', 'gen', 1, 1), ('ZV01106', 'tut -en', 'огонь 2SG', 'p', 'obj', 's', '1', '2s', 'dis', 'nul', 'nul', 'nul', 0, 's', 'non', 'obj', 0, 1), ('ZV01301', 'xɔt -en', 'дом 2SG', 'p', 'n', 's', '1', '2s', 'own', 'nul', 'nul', 'nul', 0, 's', 'non', 'sbj', 1, 1), ('ZV01303', 'aj ot -ł -an -ən', 'маленький вещь PL 2SG LOC', 'p', 'n', 's', '1', '2s', 'own', 'loc', 'nul', 'nul', 0, 'p', 'hum', 'iob', 1, 1), ('ZV02502', 'năŋ săm -en', 'ты сердце 2SG', 'p', 'obj', 's', '1', '2s', 'bod', 'nul', 'nul', 'nul', 1, 's', 'non', 'obj', 1, 1), ('ZV03101', 'pox -ije -n', 'сын DIM 2SG', 'p', 'obj', 's', '1', '2s', 'fam', 'nul', 'dim', 'nul', 0, 's', 'hum', 'obj', 1, 1), ('ZV03401', 'ńałm -en', 'язык 2SG', 'p', 'sbj', 's', '1', '2s', 'bod', 'nul', 'nul', 'nul', 0, 's', 'non', 'obj', 1, 1), ('ZV03501', 'ńałm -en', 'язык 2SG', 'p', 'obj', 's', '1', '2s', 'bod', 'nul', 'nul', 'nul', 0, 's', 'non', 'obj', 1, 1), ('ZV03801', 'xiłe -n', 'внук 2SG', 'p', 'sbj', 's', '1', '2s', 'fam', 'nul', 'nul', 'nul', 0, 's', 'hum', 'obj', 1, 1)]\n"
     ]
    }
   ],
   "source": [
    "# QUERIES\n",
    "\n",
    "# creating a compound table with all texts\n",
    "c.execute(\"drop table if exists texts\")\n",
    "c.execute(\"CREATE TABLE IF NOT EXISTS texts(NP_ID text, NP_Morph text, NP_Gloss text, ASP text, CNJ text, POS text, PSS text, PHI text, SEM text, MRK text, DRV text, DET text, NPS bool, NUM text, ANM text, SYN text, DEF bool, REF bool)\")\n",
    "conn.commit()\n",
    "\n",
    "for n in tab_num:\n",
    "    tabcom = \"select * from text%s\" % n\n",
    "    c.execute(tabcom)\n",
    "    for row in c.fetchall():\n",
    "        x = row[1]\n",
    "        y = row[2]\n",
    "        z = row[3]\n",
    "        a = row[4]\n",
    "        b = row[5]\n",
    "        d = row[6]\n",
    "        e = row[7]\n",
    "        g = row[8]\n",
    "        f = row[0]\n",
    "        h = row[9]\n",
    "        i = row[10]\n",
    "        j = row[11]\n",
    "        k = row[12]\n",
    "        l = row[13]\n",
    "        m = row[14]\n",
    "        n = row[15]\n",
    "        o = row[16]\n",
    "        p = row[17]\n",
    "        c.execute('INSERT INTO texts VALUES (?, ?, ?, ?, ?, ?, ?, ?, ?, ?, ?, ?, ?, ?, ?, ?, ?, ?)', (f, x, y, z, a, b, d, e, g, h, i, j, k, l, m, n, o, p))\n",
    "\n",
    "# query 1\n",
    "c.execute(\"select * from texts where PSS='1' and PHI='2s'\") # Return all NPs marked with POSS.2SG from the compound table to make sure that the table was created properly\n",
    "print(c.fetchall())\n",
    "\n",
    "conn.commit()"
   ]
  },
  {
   "cell_type": "markdown",
   "metadata": {},
   "source": [
    "*At this point it can be clearly seen that there's an issue with Khanty-specific character encoding, but luckily this is irrelevant for our purposes, so I'm leaving it the way it is.*\n",
    "\n",
    "*Four of the hypotheses in our project were that 1&2) POSS.2SG or POSS.3SG marked NPs are always referential, 3) POSS.3SG marked NPs are not always definite, 4) POSS.2SG marked NPs are always definite.*\n",
    "\n",
    "*We can check that by selecting for appropriately marked NPs and their DEF and REF values (where 1 means definite/referential and 0 vice versa).*"
   ]
  },
  {
   "cell_type": "code",
   "execution_count": 147,
   "metadata": {},
   "outputs": [
    {
     "name": "stdout",
     "output_type": "stream",
     "text": [
      "[('CH02501', 'ты богатство 2SG', '2s', 1, 1), ('CH02701', 'дом 2SG', '2s', 1, 1), ('DE04101', 'этот век 2SG', '2s', 1, 1), ('DY00201', 'этот осень 2SG', '2s', 1, 1), ('SG04801', 'новый хвост 2SG', '2s', 1, 1), ('KA00101', 'Миша STEM 2SG', '2s', 1, 1), ('KA00501', 'Миша STEM 2SG LOC', '2s', 1, 1), ('KA00801', 'Миша STEM 2SG', '2s', 1, 1), ('KI00401', 'этот мужчина DIM 2SG', '2s', 1, 1), ('KI00804', 'один избушка 2SG LOC', '2s', 1, 1), ('KI02304', 'один избушка 2SG LOC', '2s', 1, 1), ('KS01901', 'дом 2SG', '2s', 1, 1), ('KS04401', 'сводная сестра 2SG', '2s', 1, 1), ('KS06001', 'сын 2SG', '2s', 0, 0), ('KS06601', 'сын 2SG', '2s', 0, 0), ('KS07201', 'сын 2SG', '2s', 0, 0), ('KS09101', 'сын 2SG', '2s', 0, 0), ('KS10201', 'сын 2SG', '2s', 0, 0), ('KS13703', 'вы сын 2SG DAT', '2s', 1, 1), ('KS14301', 'котел 2SG', '2s', 1, 1), ('KS14304', 'дом 2SG', '2s', 1, 1), ('KS15001', 'котел 2SG', '2s', 1, 1), ('KS15004', 'дом 2SG', '2s', 1, 1), ('KS15703', 'огонь 2SG', '2s', 0, 1), ('KS15704', ' котел 2SG', '2s', 1, 1), ('LL01201', 'что PL 2SG', '2s', 0, 1), ('LL01402', 'кишечник конец 2SG', '2s', 1, 1), ('LL01403', 'кишка PL 2SG', '2s', 1, 1), ('MD00201', 'сын 2SG', '2s', 1, 1), ('MT00801', 'дочь 2SG', '2s', 1, 1), ('MT05802', 'шея 2SG DAT', '2s', 1, 1), ('MT05901', 'этот шарф 2SG', '2s', 1, 1), ('MT07901', 'трясогузка DIM 2SG LOC', '2s', 1, 1), ('MT08003', 'грудь 2SG', '2s', 1, 1), ('MT08004', 'семь игла 2SG', '2s', 1, 1), ('MT08101', 'трясогузка DIM 2SG', '2s', 1, 1), ('MT08401', 'трясогузка DIM 2SG', '2s', 1, 1), ('MT09605', 'солнце царь город 2SG', '2s', 1, 1), ('MT09802', 'война люди PL 2SG', '2s', 1, 1), ('MT09902', 'игла PL 2SG', '2s', 1, 1), ('MT10404', 'этот война люди PL 2SG', '2s', 1, 1), ('MT10901', 'этот женщина 2SG', '2s', 1, 1), ('MT11003', 'небо царь мужчина 2SG', '2s', 1, 1), ('MT12102', 'этот мужчина STEM PL 2SG', '2s', 1, 1), ('MZ00101', 'мать 2SG', '2s', 1, 1), ('MZ00103', 'голова DIM 2SG', '2s', 1, 1), ('SG00101', 'щука и глухарь 2SG', '2s', 1, 1), ('SG00201', 'глухарь DIM 2SG', '2s', 1, 1), ('SG00202', 'щука 2SG', '2s', 1, 1), ('SG00301', 'глухарь 2SG', '2s', 1, 1), ('SG00401', 'щука 2SG', '2s', 1, 1), ('SG00801', 'щука 2SG', '2s', 1, 1), ('SG00804', 'глухарь 2SG', '2s', 1, 1), ('HUJ00601', 'этот мужчина 2SG', '2s', 1, 1), ('HUJ02703', 'север ненец Ворт 2SG', '2s', 1, 1), ('ZV01103', 'жила делать IPFV.PART женщина 2SG', '2s', 1, 1), ('ZV01106', 'огонь 2SG', '2s', 0, 1), ('ZV01301', 'дом 2SG', '2s', 1, 1), ('ZV01303', 'маленький вещь PL 2SG LOC', '2s', 1, 1), ('ZV02502', 'ты сердце 2SG', '2s', 1, 1), ('ZV03101', 'сын DIM 2SG', '2s', 1, 1), ('ZV03401', 'язык 2SG', '2s', 1, 1), ('ZV03501', 'язык 2SG', '2s', 1, 1), ('ZV03801', 'внук 2SG', '2s', 1, 1)]\n"
     ]
    }
   ],
   "source": [
    "# query 2\n",
    "\n",
    "c.execute(\"select NP_ID, NP_Gloss, PHI, DEF, REF from texts where PSS='1' and PHI='2s'\") # Return all NPs marked with POSS.2SG from the compound table\n",
    "print(c.fetchall())"
   ]
  },
  {
   "cell_type": "markdown",
   "metadata": {},
   "source": [
    "*We can see that all instances of POSS.2SG marked NPs are both definite and referential except for several instances of 'son' (items KS06001, KS06601, KS07201, KS09101, KS10201). This reveals that our hypotheses is wrong. Upon checking the texts themselves it is revealed that in all these cases the NP in question is part of an antecedent of a counterfactual conditional sentence \"If this were a son-POSS.2SG born of me....\". It is not at all clear that in this case the appropriate translation is not \"If this son was born of me...\" were the referent **is** definite and referential. Maybe, this is a result of faulty mark-up or our hypotheses have to be amended with respect to counterfactual conditionals. Anyways, our queries resulted in food for discussion of the project.*"
   ]
  },
  {
   "cell_type": "code",
   "execution_count": 148,
   "metadata": {},
   "outputs": [
    {
     "name": "stdout",
     "output_type": "stream",
     "text": [
      "[('CH01701', 'все лошадь PL 3SG', '3s', 0, 1), ('CH01702', 'корова PL 3SG', '3s', 0, 1), ('CH01901', 'белый борода ATTR мужчина 3SG', '3s', 1, 1), ('CH02401', 'белый борода ATTR мужчина 3SG', '3s', 1, 1), ('CH02502', 'тот же образ 3SG', '3s', 0, 0), ('DE00701', 'муж 3SG', '3s', 0, 0), ('DE00801', 'тот родня PL 3SG', '3s', 1, 1), ('DE01101', 'жена 3SG', '3s', 1, 1), ('DE01601', 'жена 3SG', '3s', 1, 1), ('DE02201', 'нарта 3SG', '3s', 1, 1), ('DE02203', 'образ товар PL 3SG', '3s', 1, 1), ('DE02204', 'люди PL 3SG', '3s', 1, 1), ('DE02609', 'земля сторона DAT мужчина 3SG', '3s', 1, 1), ('DE02701', 'он люди PL 3SG', '3s', 1, 1), ('DE02801', 'люди PL 3SG', '3s', 1, 1), ('DE03101', 'муж 3SG', '3s', 1, 1), ('DE03201', 'ребенок 3SG', '3s', 1, 1), ('DE03203', 'ребенок 3SG', '3s', 1, 1), ('DE03301', 'ум 3SG', '3s', 1, 1), ('DE03402', 'ребенок 3SG', '3s', 1, 1), ('DE04201', 'ребенок 3SG', '3s', 1, 1), ('DE04402', 'бабушка ребенок 3SG', '3s', 1, 1), ('DE04703', 'этот время STEM LOC дом дверь DIM PL 3SG', '3s', 1, 1), ('DE05102', 'дверь половина PL 3SG', '3s', 1, 1), ('DE05404', 'тот лес вещь 3SG', '3s', 1, 1), ('DE05604', 'лес вещь 3SG', '3s', 1, 1), ('DE06301', 'ребенок PL 3SG', '3s', 1, 1), ('DE06302', 'какой-то ребенок 3SG', '3s', 1, 1), ('DE06404', 'родня STEM 3SG', '3s', 1, 1), ('DE06406', 'жар 3SG LOC', '3s', 1, 1), ('DE06801', 'нога PL 3SG', '3s', 1, 1), ('DE06803', 'разговор ум 3SG', '3s', 1, 1), ('DE06901', 'что ум 3SG', '3s', 1, 1), ('DE06905', 'дом ATTR люди PL 3SG', '3s', 1, 1), ('DE07001', 'ребенок PL 3SG', '3s', 1, 1), ('DE07002', 'ребенок PL 3SG', '3s', 1, 1), ('DE07201', 'он рот 3SG', '3s', 1, 1), ('DE07605', 'деревня 3SG DAT', '3s', 1, 1), ('DE07701', 'ребенок PL 3SG', '3s', 1, 1), ('DE07804', 'PL ребенок PL 3SG', '3s', 1, 1), ('DE08001', 'муж 3SG', '3s', 1, 1), ('DE08002', 'муж 3SG муж 3SG', '3s', 1, 1), ('DE08101', 'ребенок PL 3SG', '3s', 1, 1), ('DE08201', 'жена 3SG', '3s', 1, 1), ('DE08202', 'жена 3SG', '3s', 1, 1), ('DE08203', 'душа 3SG', '3s', 1, 1), ('DE08405', 'возможность 3SG', '3s', 1, 1), ('DE08901', 'мужчина 3SG', '3s', 1, 1), ('DE08905', 'родня STEM 3SG', '3s', 1, 1), ('DE09001', 'разговор 3SG', '3s', 1, 1), ('SG00102', 'заяц жена 3SG', '3s', 1, 1), ('SG00502', 'рябчик женщина внук PL 3SG', '3s', 1, 1), ('SG00603', 'заяц заяц жена 3SG', '3s', 1, 1), ('SG00904', 'сын DIM 3SG', '3s', 1, 1), ('SG00905', 'ночь 3SG PL LOC', '3s', 0, 0), ('SG01502', 'сын DIM 3SG', '3s', 1, 1), ('SG01604', 'мальчик DIM 3SG', '3s', 1, 1), ('SG02004', 'сын 3SG DAT', '3s', 1, 1), ('SG03104', 'хвост 3SG LOC', '3s', 1, 1), ('SG03106', 'нос конец 3SG', '3s', 1, 1), ('SG03204', 'слеза 3SG', '3s', 1, 1), ('SG03401', 'место 3SG', '3s', 1, 1), ('SG03402', 'мать 3SG', '3s', 1, 1), ('SG03403', 'отец 3SG', '3s', 1, 1), ('SG03801', 'он хвост 3SG', '3s', 1, 1), ('SG03901', 'хвост 3SG', '3s', 1, 1), ('SG04001', 'клубок.3SG', '3s', 1, 1), ('SG04002', 'хвост 3SG', '3s', 1, 1), ('SG04301', 'мать 3SG LOC', '3s', 1, 1), ('SG04302', 'отец 3SG LOC', '3s', 1, 1), ('SG04701', 'старый ободранный хвост 3SG', '3s', 1, 1), ('SG04902', 'место 3SG', '3s', 0, 0), ('SG04903', 'мать 3SG', '3s', 1, 1), ('SG04904', 'отец 3SG', '3s', 1, 1), ('SG04905', 'мать 3SG', '3s', 1, 1), ('SG04906', 'отец 3SG', '3s', 1, 1), ('SG04907', 'хвост 3SG LOC', '3s', 1, 1), ('SG05302', 'заяц DIM сердце 3SG', '3s', 1, 1), ('SG05502', 'хвост 3SG', '3s', 1, 1), ('SG05603', 'снежинка DIM хвост 3SG', '3s', 1, 1), ('SG06002', 'лапа DU.POSS 3SG LOC', '3s', 1, 1), ('SG06003', 'хвост 3SG', '3s', 1, 1), ('SG06201', 'боль место PL 3SG', '3s', 0, 1), ('KA00201', 'родня PL 3SG', '3s', 0, 1), ('KA00602', 'племянница DU.POSS возраст 3SG', '3s', 1, 1), ('KA00903', 'маленький сестра 3SG', '3s', 1, 1), ('KI00101', 'один избушка 3SG LOC', '3s', 0, 1), ('KI00501', 'дверь 3SG', '3s', 1, 1), ('KI00602', 'Кар мужчина 3SG', '3s', 1, 1), ('KI02502', 'камень DIM PL 3SG', '3s', 1, 1), ('KS00102', 'сводная сестра 3SG LOC', '3s', 1, 1), ('KS00203', 'сводный брат 3SG', '3s', 1, 1), ('KS00701', 'сводный брат 3SG', '3s', 1, 1), ('KS01101', 'сводный брат DAT', '3s', 1, 1), ('KS01103', 'сводная сестра 3SG', '3s', 1, 1), ('KS01401', 'один женщина 3SG LOC', '3s', 1, 1), ('KS01402', 'голова 3SG', '3s', 1, 1), ('KS01501', 'один женщина 3SG', '3s', 1, 1), ('KS01701', 'один мужчина STEM 3SG', '3s', 1, 1), ('KS01702', 'сводный брат 3SG', '3s', 1, 1), ('KS01801', 'сводный брат 3SG', '3s', 1, 1), ('KS02001', 'сводный брат 3SG', '3s', 1, 1), ('KS02102', 'сводный брат 3SG', '3s', 1, 1), ('KS02201', 'сводный брат 3SG', '3s', 1, 1), ('KS02203', 'тот же мужчина 3SG', '3s', 1, 1), ('KS02301', 'женщина 3SG', '3s', 1, 1), ('KS02501', 'один женщина 3SG LOC', '3s', 1, 1), ('KS02502', 'голова 3SG', '3s', 1, 1), ('KS02601', 'один женщина 3SG', '3s', 1, 1), ('KS02901', 'сводный брат 3SG', '3s', 1, 1), ('KS03001', 'сводный брат 3SG', '3s', 1, 1), ('KS03202', 'сводный брат 3SG', '3s', 1, 1), ('KS03301', 'сводный брат 3SG', '3s', 1, 1), ('KS03303', 'тот же мужчина 3SG', '3s', 1, 1), ('KS03401', 'один женщина 3SG', '3s', 1, 1), ('KS03701', 'голова 3SG', '3s', 1, 1), ('KS03702', 'один женщина 3SG', '3s', 1, 1), ('KS04001', 'один мужчина STEM 3SG', '3s', 1, 1), ('KS04101', 'сводный брат 3SG', '3s', 1, 1), ('KS04201', 'сводный брат 3SG', '3s', 1, 1), ('KS04202', 'зять 3SG', '3s', 1, 1), ('KS04301', 'зять 3SG', '3s', 1, 1), ('KS04303', 'тесть 3SG', '3s', 1, 1), ('KS04501', 'сводный брат 3SG', '3s', 1, 1), ('KS04701', 'он желание 3SG', '3s', 0, 0), ('KS04901', 'один мужчина STEM 3SG LOC', '3s', 1, 1), ('KS05101', 'он деревня 3SG DAT', '3s', 1, 1), ('KS05102', 'он город 3SG DAT', '3s', 1, 1), ('KS05103', 'дом 3SG DAT', '3s', 1, 1), ('KS05105', 'жена 3SG', '3s', 1, 1), ('KS05203', 'рост ATTR женщина рост 3SG LOC', '3s', 0, 0), ('KS05301', 'жена 3SG', '3s', 1, 1), ('KS05401', 'сын DIM 3SG', '3s', 1, 1), ('KS05601', 'мать 3SG LOC', '3s', 1, 1), ('KS05702', 'мальчик 3SG', '3s', 1, 1), ('KS05801', 'мужичок STEM 3SG', '3s', 1, 1), ('KS05802', 'жена 3SG', '3s', 1, 1), ('KS06101', 'отец 3SG LOC', '3s', 1, 1), ('KS06203', 'мать 3SG LOC', '3s', 1, 1), ('KS06303', 'сын 3SG', '3s', 1, 1), ('KS06401', 'мужичок STEM 3SG', '3s', 1, 1), ('KS06402', 'жена 3SG', '3s', 1, 1), ('KS06701', 'отец 3SG LOC', '3s', 1, 1), ('KS06803', 'мать 3SG LOC', '3s', 1, 1), ('KS06903', 'сын 3SG', '3s', 1, 1), ('KS07001', 'мужичок STEM 3SG', '3s', 1, 1), ('KS07401', 'сын 3SG', '3s', 1, 1), ('KS08005', 'люди PL 3SG', '3s', 0, 0), ('KS08006', 'один сторона 3SG', '3s', 0, 1), ('KS08101', 'голова 3SG глаз 3SG', '3s', 1, 1), ('KS08301', 'люди PL 3SG', '3s', 0, 1), ('KS08706', 'люди PL 3SG', '3s', 0, 0), ('KS08707', 'один половина 3SG', '3s', 0, 1), ('KS08801', 'голова 3SG глаз 3SG', '3s', 1, 1), ('KS08901', 'отец 3SG', '3s', 1, 1), ('KS08902', 'жена 3SG', '3s', 1, 1), ('KS09203', 'люди PL 3SG', '3s', 0, 0), ('KS09204', 'один половина 3SG', '3s', 0, 1), ('KS09403', 'люди PL 3SG', '3s', 0, 0), ('KS09803', 'люди PL 3SG', '3s', 0, 0), ('KS09804', 'один половина 3SG', '3s', 0, 1), ('KS09901', 'голова 3SG глаз 3SG', '3s', 1, 1), ('KS10001', 'отец 3SG', '3s', 1, 1), ('KS10303', 'люди PL 3SG', '3s', 0, 0), ('KS10401', 'отец 3SG', '3s', 1, 1), ('KS10402', 'отец 3SG сын 3SG', '3s', 1, 1), ('KS10801', 'сводный брат 3SG', '3s', 1, 1), ('KS11103', 'сводный брат PL 3SG', '3s', 1, 1), ('KS11401', 'сводный брат PL 3SG', '3s', 1, 1), ('KS11402', 'люлька 3SG', '3s', 1, 1), ('KS11404', 'люлька 3SG DAT', '3s', 1, 1), ('KS12201', 'люлька 3SG', '3s', 1, 1), ('KS12402', 'город пристань 3SG DAT', '3s', 0, 1), ('KS12501', 'дом 3SG DAT', '3s', 1, 1), ('KS12701', 'отец 3SG', '3s', 1, 1), ('KS13001', 'отец 3SG', '3s', 1, 1), ('KS13004', 'сын 3SG', '3s', 1, 1), ('KS13301', 'сын 3SG', '3s', 1, 1), ('KS13602', 'дом LOC люди PL 3SG', '3s', 1, 1), ('KS13901', 'дом 3SG LOC', '3s', 1, 1), ('KS14101', 'нары 3SG LOC', '3s', 0, 1), ('KS14302', 'котел 2SG дно 3SG', '3s', 1, 1), ('KS14305', 'угол 3SG', '3s', 1, 1), ('KS14401', 'воробей DIM 3SG', '3s', 0, 0), ('KS14801', 'воробей DIM 3SG', '3s', 1, 1), ('KS15002', 'котел 2SG дно 3SG', '3s', 1, 1), ('KS15005', 'угол 3SG', '3s', 1, 1), ('KS15101', 'воробей DIM 3SG', '3s', 1, 1), ('KS15401', 'нары 3SG DAT', '3s', 1, 1), ('KS15501', 'воробей DIM 3SG', '3s', 1, 1), ('KS15705', 'котел 2SG дно 3SG', '3s', 1, 1), ('KS15802', 'дверь 3SG', '3s', 1, 1), ('KS15903', 'огонь 3SG', '3s', 0, 1), ('KS16002', 'небо отец 3SG', '3s', 1, 1), ('KS16103', 'верх небо отец 3SG LOC', '3s', 1, 1), ('KS16201', 'отец 3SG', '3s', 1, 1), ('KS16202', 'отец 3SG кольчуга 3SG', '3s', 1, 1), ('KS16303', 'голый тело 3SG', '3s', 0, 0), ('KS16503', 'народ 3SG', '3s', 0, 0), ('KS16602', 'правый сторона рука 3SG', '3s', 1, 1), ('KS16604', 'левый сторона нога 3SG', '3s', 1, 1), ('KS16702', 'правый сторона рука 3SG DAT', '3s', 1, 1), ('KS16707', 'правый сторона рука 3SG DAT', '3s', 1, 1), ('KS17001', 'жена 3SG', '3s', 1, 1), ('KS17401', 'лук 3SG', '3s', 0, 1), ('KS17801', 'лодка 3SG DAT', '3s', 1, 1), ('KS17901', 'деревня 3SG DAT', '3s', 1, 1), ('KS18001', 'мать 3SG', '3s', 1, 1), ('KS18101', 'жена 3SG', '3s', 1, 1), ('KS18202', 'величина ATTR женщина величина 3SG LOC', '3s', 0, 1), ('KS18204', 'рост ATTR женщина рост 3SG LOC', '3s', 0, 1), ('KS18502', 'этот счастье 3SG благосостояние 3SG LOC', '3s', 1, 1), ('LL00401', 'медведь 3SG', '3s', 0, 1), ('LL00404', 'маленький зверь PL заяц PL 3SG', '3s', 0, 1), ('LL00404', 'заяц PL 3SG', '3s', 0, 1), ('LL00701', 'дом 3SG DAT', '3s', 1, 1), ('LL00801', 'медведь 3SG', '3s', 1, 1), ('LL01001', 'маленький зверь PL 3SG заяц PL 3SG', '3s', 1, 1), ('LL01101', 'медведь 3SG', '3s', 1, 1), ('LL01501', 'медведь 3SG', '3s', 1, 1), ('LL01601', 'этот благосостояние 3SG LOC', '3s', 1, 1), ('MD00501', 'отец 3SG', '3s', 1, 1), ('MD00801', 'этот мужчина STEM 3SG LOC', '3s', 1, 1), ('MD01101', 'этот мужчина STEM 3SG', '3s', 1, 1), ('MD01401', 'этот мужчина STEM 3SG LOC', '3s', 1, 1), ('MD01801', 'этот мужчина STEM 3SG', '3s', 1, 1), ('MD02301', 'этот мужчина STEM 3SG', '3s', 1, 1), ('MD02503', 'голова 3SG DAT', '3s', 1, 1), ('MD02601', 'этот длинный нога ATTR мужчина STEM 3SG', '3s', 1, 1), ('MD02802', 'лицо 3SG', '3s', 1, 1), ('MD02901', 'город 3SG DAT', '3s', 0, 1), ('MD03002', 'лошадь 3SG', '3s', 1, 1), ('MD03402', 'люди PL 3SG', '3s', 1, 1), ('MD03404', 'лошадь 3SG', '3s', 1, 1), ('MD03501', 'лошадь 3SG', '3s', 1, 1), ('MD03701', 'лошадь 3SG DAT', '3s', 1, 1), ('MD03803', 'лошадь 3SG', '3s', 1, 1), ('MD03901', 'мужчина STEM PL 3SG', '3s', 1, 1), ('MD04803', 'душа 3SG', '3s', 1, 1), ('MD04902', 'лицо 3SG', '3s', 1, 1), ('MD04903', 'мужчина 3SG', '3s', 1, 1), ('MD05002', 'этот мужчина 3SG', '3s', 1, 1), ('MD05101', 'этот мужчина 3SG', '3s', 1, 1), ('MD05501', 'сердце 3SG', '3s', 1, 1), ('MD05602', 'дом 3SG DAT', '3s', 1, 1), ('MD05701', 'жена 3SG', '3s', 1, 1), ('MD05801', 'сердце 3SG', '3s', 1, 1), ('MD06102', 'муж 3SG', '3s', 1, 1), ('MD06201', 'этот мужчина 3SG LOC', '3s', 1, 1), ('MD06302', 'этот мужчина STEM 3SG', '3s', 1, 1), ('MD06303', 'вид 3SG', '3s', 1, 1), ('MD06401', 'шум 3SG', '3s', 0, 1), ('MD06701', 'тот люди PL 3SG LOC', '3s', 1, 1), ('MD06702', 'сердце 3SG', '3s', 1, 1), ('MD07004', 'длинный шея 3SG', '3s', 1, 1), ('MD07201', 'большой живот ATTR мужчина 3SG', '3s', 1, 1), ('MD07401', 'большой живот ATTR мужчина 3SG LOC', '3s', 1, 1), ('MD07501', 'этот длинный шея 3SG', '3s', 1, 1), ('MD07502', 'шея 3SG', '3s', 1, 1), ('MD08102', 'этот медведь шкура ATTR мужчина STEM 3SG LOC', '3s', 1, 1), ('MD08104', 'этот большой щука живот 3SG', '3s', 1, 1), ('MD08202', 'мужчина STEM 3SG', '3s', 1, 1), ('MD08204', 'медведь шуба ATTR мужчина STEM 3SG LOC', '3s', 1, 1), ('MD08205', 'сердце 3SG', '3s', 1, 1), ('MD08601', 'этот друг 3SG', '3s', 1, 1), ('MD08701', 'жена 3SG', '3s', 1, 1), ('MD08803', 'мужчина STEM 3SG', '3s', 1, 1), ('MD08804', 'земля 3SG DAT', '3s', 1, 1), ('MD09301', 'длинный нога ATTR мужчина 3SG', '3s', 1, 1), ('MD09401', 'этот мужчина 3SG', '3s', 1, 1), ('MD09902', 'большой шея мужчина 3SG', '3s', 1, 1), ('MD09903', 'место 3SG DAT', '3s', 1, 1), ('MD10602', 'медведь шуба ATTR мужчина 3SG', '3s', 1, 1), ('MD11103', 'рыба ткань шуба ATTR мужчина 3SG', '3s', 1, 1), ('MD11501', 'мать 3SG и отец 3SG', '3s', 1, 1), ('MD11505', 'три дом угол 3SG', '3s', 0, 1), ('MD11801', 'отец 3SG', '3s', 1, 1), ('MD12201', 'отец 3SG', '3s', 1, 1), ('MD12202', 'этот мальчик 3SG LOC', '3s', 1, 1), ('MD12205', 'малица край PL 3SG', '3s', 1, 1), ('MD12301', 'жена 3SG', '3s', 1, 1), ('MD12302', 'невестка 3SG DAT', '3s', 1, 1), ('MD12309', 'платок край 3SG', '3s', 1, 1), ('MD12401', 'этот счастье 3SG благосостояние 3SG LOC', '3s', 1, 1), ('MT00703', 'солнце выйти IPFV.PART сторона мужчина STEM 3SG', '3s', 1, 1), ('MT01401', 'сын 3SG', '3s', 1, 1), ('MT01501', 'отец 3SG LOC', '3s', 1, 1), ('MT02201', 'сын 3SG', '3s', 1, 1), ('MT02202', 'отец 3SG', '3s', 1, 1), ('MT02501', 'отец 3SG', '3s', 1, 1), ('MT02502', 'кисы 3SG', '3s', 1, 1), ('MT02503', 'сын 3SG', '3s', 1, 1), ('MT02601', 'сторона 3SG DAT', '3s', 1, 1), ('MT02606', 'охотничьи лыжи DU.POSS', '3s', 1, 1), ('MT02701', 'сын 3SG', '3s', 1, 1), ('MT03001', 'один хлеб 3SG', '3s', 0, 1), ('MT03002', 'продукты в дорогу ADJ мешок 3SG', '3s', 1, 1), ('MT03201', 'второй хлеб 3SG', '3s', 0, 1), ('MT03202', 'продукты в дорогу ADJ мешок 3SG', '3s', 1, 1), ('MT03601', 'хлеб 3SG', '3s', 1, 1), ('MT03801', 'этот мужчина STEM 3SG', '3s', 1, 1), ('MT03901', 'стрела 3SG', '3s', 1, 1), ('MT04202', 'клюв 3SG LOC', '3s', 1, 1), ('MT04306', 'сорока DIM 3SG', '3s', 1, 1), ('MT04502', 'нить клубок 3SG', '3s', 1, 1), ('MT04901', 'река ATTR море 3SG', '3s', 1, 1), ('MT05001', 'сила 3SG', '3s', 0, 0), ('MT05202', 'грудь 3SG LOC', '3s', 1, 1), ('MT05301', 'этот мужчина STEM 3SG', '3s', 1, 1), ('MT05401', 'трясогузка DIM 3SG', '3s', 1, 1), ('MT06101', 'жена 3SG', '3s', 1, 1), ('MT06201', 'жена 3SG', '3s', 1, 1), ('MT06302', 'три дом угол 3SG', '3s', 0, 1), ('MT06304', 'один дом угол 3SG', '3s', 0, 1), ('MT06802', 'крыло 3SG', '3s', 1, 1), ('MT07501', 'мужчина STEM 3SG', '3s', 1, 1), ('MT07702', 'грудь 3SG', '3s', 1, 1), ('MT07802', 'семь игла 3SG', '3s', 1, 1), ('MT07803', 'мужчина STEM 3SG LOC', '3s', 1, 1), ('MT08009', 'этот война люди нога дно PL 3SG', '3s', 1, 1), ('MT08010', 'рука PL 3SG', '3s', 1, 1), ('MT08201', 'мужчина STEM 3SG', '3s', 1, 1), ('MT08301', 'мужчина STEM 3SG', '3s', 1, 1), ('MT08504', 'этот война люди нога дно PL 3SG', '3s', 1, 1), ('MT08505', 'рука PL 3SG', '3s', 1, 1), ('MT08601', 'этот люди PL 3SG', '3s', 1, 1), ('MT08901', 'трясогузка DIM 3SG', '3s', 1, 1), ('MT09101', 'семь игла 3SG', '3s', 1, 1), ('MT09204', 'война люди нога дно PL 3SG', '3s', 1, 1), ('MT09205', 'рука PL 3SG', '3s', 1, 1), ('MT09301', 'этот люди PL 3SG LOC', '3s', 1, 1), ('MT09601', 'мужчина STEM 3SG', '3s', 1, 1), ('MT09602', 'трясогузка DIM 3SG LOC', '3s', 1, 1), ('MT10504', 'этот люди PL 3SG', '3s', 1, 1), ('MT10601', 'дверь 3SG', '3s', 1, 1), ('MT10801', 'жена 3SG', '3s', 1, 1), ('MT10804', 'небо царь мужчина 3SG', '3s', 1, 1), ('MT10805', 'плечо DU.POSS', '3s', 1, 1), ('MT11004', 'жена 3SG', '3s', 1, 1), ('MT11201', 'жена 3SG', '3s', 1, 1), ('MT11601', 'чарка STEM 3SG', '3s', 1, 1), ('MT11701', 'шея 3SG', '3s', 1, 1), ('MT11801', 'этот игла PL 3SG DAT', '3s', 1, 1), ('MT11803', 'этот игла PL 3SG', '3s', 1, 1), ('MT11805', 'война люди PL 3SG', '3s', 1, 1), ('MT12001', 'игла PL 3SG', '3s', 1, 1), ('MT12002', 'трясогузка DIM 3SG', '3s', 1, 1), ('MT12004', 'мысль 3SG DAT', '3s', 0, 0), ('MT12206', 'война люди PL 3SG', '3s', 1, 1), ('MT12502', 'война люди PL 3SG', '3s', 1, 1), ('MT12602', 'война люди PL 3SG', '3s', 1, 1), ('MT12807', 'муж 3SG DAT', '3s', 1, 1), ('SG00302', 'щука 3SG', '3s', 1, 1), ('SG00404', 'спина сторона 3SG', '3s', 1, 1), ('SG00501', 'щука 3SG', '3s', 1, 1), ('SG00503', 'глухарь 3SG', '3s', 1, 1), ('SG00803', 'спина 3SG LOC', '3s', 1, 1), ('HUJ00201', 'голова 3SG ATTR', '3s', 0, 1), ('HUJ00502', 'нарта ножка PL 3SG', '3s', 1, 1), ('HUJ00702', 'вода зверь мужская верхняя одежда STEM ATTR сын 3SG', '3s', 1, 1), ('HUJ01002', 'начало 3SG', '3s', 0, 0), ('HUJ01101', 'семь белый олень-бык 3SG LOC', '3s', 1, 1), ('HUJ01201', 'осетр спина мозг ATTR тонкий веревка 3SG', '3s', 1, 1), ('HUJ01202', 'нарта 3SG', '3s', 1, 1), ('HUJ01303', 'маленький Ворт DIM 3SG', '3s', 1, 1), ('HUJ01401', 'этот мужчина STEM 3SG', '3s', 1, 1), ('HUJ01703', 'маленький Ворт 3SG', '3s', 1, 1), ('HUJ01904', 'конец 3SG', '3s', 1, 1), ('HUJ02201', 'аркан 3SG', '3s', 1, 1), ('HUJ02502', 'аркан 3SG', '3s', 1, 1), ('HUJ02601', 'аркан 3SG', '3s', 1, 1), ('HUJ02803', 'этот север ненец маленький Ворт DIM 3SG', '3s', 1, 1), ('HUJ03203', 'этот север ненец маленький Ворт DIM 3SG', '3s', 1, 1), ('HUJ03302', 'вода зверь мужская верхняя одежда STEM ATTR сын 3SG', '3s', 1, 1), ('HUJ03401', 'голова 3SG', '3s', 1, 1), ('HUJ03501', 'этот война копье 3SG', '3s', 1, 1), ('HUJ03602', 'этот вода зверь мужская верхняя одежда STEM ATTR сын DIM  3SG', '3s', 1, 1), ('HUJ03702', 'этот вода зверь мужская верхняя одежда STEM ATTR сын 3SG', '3s', 1, 1), ('HUJ03901', 'этот семь шкура оленя, используемая для постели 3SG', '3s', 1, 1), ('HUJ04101', 'голова 3SG', '3s', 1, 1), ('HUJ04301', 'голова 3SG', '3s', 1, 1), ('HUJ04601', 'небо 3SG', '3s', 1, 1), ('HUJ04801', 'нарта 3SG DAT', '3s', 1, 1), ('HUJ04802', 'нарта 3SG DAT', '3s', 1, 1), ('HUJ05101', 'этот женщина 3SG', '3s', 1, 1), ('HUJ05102', 'дом 3SG', '3s', 1, 1), ('HUJ05201', 'нарта 3SG DAT', '3s', 1, 1), ('HUJ05202', 'семь белый олень-бык 3SG', '3s', 1, 1), ('HUJ05601', 'отец 3SG', '3s', 1, 1), ('HUJ05801', 'отец 3SG', '3s', 1, 1), ('HUJ05802', 'лук 3SG', '3s', 1, 1), ('HUJ06001', 'этот мужская верхняя одежда STEM 3SG', '3s', 1, 1), ('HUJ06002', 'жена 3SG LOC', '3s', 1, 1), ('HUJ06103', 'этот север ненец много муж 3SG', '3s', 1, 1), ('HUJ06301', 'отец 3SG мужчина', '3s', 1, 1), ('HUJ06305', 'один нога бок 3SG', '3s', 1, 1), ('HUJ06401', 'жена 3SG', '3s', 1, 1), ('HUJ06502', 'вода зверь мужская верхняя одежда STEM 3SG', '3s', 1, 1), ('HUJ06601', 'мужская верхняя одежда STEM 3SG', '3s', 1, 1), ('HUJ06701', 'друг 3SG', '3s', 1, 1), ('HUJ06702', 'друг 3SG', '3s', 1, 1), ('HUJ06802', 'дом 3SG', '3s', 1, 1), ('HUJ07001', 'этот друг 3SG', '3s', 1, 1), ('HUJ07103', 'север ненец много мужчина 3SG', '3s', 1, 1), ('HUJ07301', 'бывший женщина 3SG', '3s', 1, 1), ('HUJ07401', 'этот вещь 3SG', '3s', 1, 1), ('ZV00201', 'невестка 3SG', '3s', 1, 1), ('ZV00302', 'свекровь женщина 3SG LOC', '3s', 1, 1), ('ZV00403', 'свекровь женщина 3SG', '3s', 1, 1), ('ZV01105', 'женщина 2SG дом дверь 3SG', '3s', 1, 1), ('ZV01502', 'народ 3SG', '3s', 1, 1), ('ZV01505', 'он лицо 3SG', '3s', 1, 1), ('ZV01507', 'золото ATTR посуда DIM 3SG', '3s', 0, 1), ('ZV02302', 'посуда DIM 3SG', '3s', 1, 1), ('ZV02904', 'сын 3SG', '3s', 1, 1), ('ZV03001', 'бабушка 3SG', '3s', 1, 1), ('ZV03202', 'горло звук 3SG', '3s', 1, 1), ('ZV03301', 'невестка 3SG LOC', '3s', 1, 1), ('ZV03601', 'мальчик DIM 3SG', '3s', 0, 1)]\n"
     ]
    }
   ],
   "source": [
    "# query 3\n",
    "\n",
    "c.execute(\"select NP_ID, NP_Gloss, PHI, DEF, REF from texts where PSS='1' and PHI='3s'\") # Return all NPs marked with POSS.3SG from the compound table to make sure that the table was created properly\n",
    "print(c.fetchall())"
   ]
  },
  {
   "cell_type": "markdown",
   "metadata": {},
   "source": [
    "*Here it would seem we also find some contradictions to our hypotheses. Since there's too much data, let's single them out. I won't discuss them here, but we certainly will have to look at them in more detail in future work on the project.*"
   ]
  },
  {
   "cell_type": "code",
   "execution_count": 149,
   "metadata": {},
   "outputs": [
    {
     "name": "stdout",
     "output_type": "stream",
     "text": [
      "[('CH02502', 'тот же образ 3SG', '3s', 0, 0), ('DE00701', 'муж 3SG', '3s', 0, 0), ('SG00905', 'ночь 3SG PL LOC', '3s', 0, 0), ('SG04902', 'место 3SG', '3s', 0, 0), ('KS04701', 'он желание 3SG', '3s', 0, 0), ('KS05203', 'рост ATTR женщина рост 3SG LOC', '3s', 0, 0), ('KS08005', 'люди PL 3SG', '3s', 0, 0), ('KS08706', 'люди PL 3SG', '3s', 0, 0), ('KS09203', 'люди PL 3SG', '3s', 0, 0), ('KS09403', 'люди PL 3SG', '3s', 0, 0), ('KS09803', 'люди PL 3SG', '3s', 0, 0), ('KS10303', 'люди PL 3SG', '3s', 0, 0), ('KS14401', 'воробей DIM 3SG', '3s', 0, 0), ('KS16303', 'голый тело 3SG', '3s', 0, 0), ('KS16503', 'народ 3SG', '3s', 0, 0), ('MT05001', 'сила 3SG', '3s', 0, 0), ('MT12004', 'мысль 3SG DAT', '3s', 0, 0), ('HUJ01002', 'начало 3SG', '3s', 0, 0)]\n"
     ]
    }
   ],
   "source": [
    "# query 4\n",
    "\n",
    "c.execute(\"select NP_ID, NP_Gloss, PHI, DEF, REF from texts where PSS='1' and PHI='3s' and REF = 0\") # Return all non-referential NPs marked with POSS.3SG from the compound table\n",
    "print(c.fetchall())"
   ]
  },
  {
   "cell_type": "markdown",
   "metadata": {},
   "source": [
    "*Let's compare the counts for distinct possessive marking and unmarked NPs in the compound text and in each text.*"
   ]
  },
  {
   "cell_type": "code",
   "execution_count": 150,
   "metadata": {},
   "outputs": [
    {
     "name": "stdout",
     "output_type": "stream",
     "text": [
      "[('1d', 2), ('1p', 8), ('1s', 28), ('2/3d', 19), ('2p', 3), ('2s', 66), ('3d', 1), ('3p', 29), ('3s', 434), ('dp', 2), ('i', 2), ('n', 1484)]\n",
      "[('2s', 2), ('3p', 1), ('3s', 5), ('n', 32)]\n",
      "[('1s', 1), ('2/3d', 3), ('2s', 1), ('3p', 10), ('3s', 45), ('n', 221)]\n",
      "[('1p', 1), ('1s', 1), ('2s', 1), ('n', 27)]\n",
      "[('1s', 2), ('n', 13)]\n",
      "[('1s', 3), ('2/3d', 2), ('2s', 1), ('3s', 33), ('n', 102)]\n",
      "[('2s', 3), ('3p', 1), ('3s', 3), ('dp', 2), ('n', 25)]\n",
      "[('1s', 1), ('2s', 3), ('3s', 4), ('n', 46)]\n",
      "[('1p', 5), ('1s', 8), ('2/3d', 6), ('2s', 14), ('3d', 1), ('3p', 3), ('3s', 130), ('n', 264)]\n",
      "[('1s', 3), ('2s', 3), ('3p', 2), ('3s', 12), ('n', 15)]\n",
      "[('1d', 1), ('2/3d', 1), ('2p', 3), ('2s', 1), ('3s', 67), ('n', 225)]\n",
      "[('1p', 1), ('1s', 4), ('2/3d', 6), ('2s', 15), ('3p', 10), ('3s', 68), ('i', 2), ('n', 264)]\n",
      "[('1s', 2), ('2s', 2), ('n', 9)]\n",
      "[('2s', 9), ('3s', 5), ('n', 15)]\n",
      "[('1p', 1), ('1s', 1), ('2/3d', 1), ('2s', 2), ('3p', 1), ('3s', 49), ('n', 133)]\n",
      "[('1d', 1), ('1s', 2), ('2s', 9), ('3p', 1), ('3s', 13), ('n', 93)]\n"
     ]
    }
   ],
   "source": [
    "# query 5\n",
    "\n",
    "c.execute(\"select PHI, count(PHI) as Mark_Freq from texts group by PHI\") # Return all non-referential NPs marked with POSS.3SG from the compound table\n",
    "print(c.fetchall())\n",
    "\n",
    "# NEW: modified code to print from each table and not just the first two\n",
    "for n in tab_num:\n",
    "    tabcom = \"select PHI, count(PHI) as Mark_Freq from text%s group by PHI\" % n # Return all non-referential NPs marked with POSS.3SG from each table\n",
    "    c.execute(tabcom)\n",
    "    print(c.fetchall())"
   ]
  },
  {
   "cell_type": "markdown",
   "metadata": {},
   "source": [
    "*We can see that the unmarked strategy is the most common one, the POSS.3SG marking is the second most common, and the POSS.2SG marking is really an outlier with only 29 items. Intuitively, there doesn't seem to be a pronounced difference in marking strategy frequencies between the two texts.*\n",
    "\n",
    "*Let's consider which strategy is the most common for definite NPs.*"
   ]
  },
  {
   "cell_type": "code",
   "execution_count": 151,
   "metadata": {},
   "outputs": [
    {
     "name": "stdout",
     "output_type": "stream",
     "text": [
      "[('1d', 1), ('1p', 5), ('1s', 26), ('2/3d', 17), ('2p', 3), ('2s', 58), ('3p', 18), ('3s', 387), ('dp', 2), ('i', 2), ('n', 826)]\n"
     ]
    }
   ],
   "source": [
    "# query 6\n",
    "\n",
    "c.execute(\"select PHI, count(PHI) as Mark_Freq from texts where DEF = 1 group by PHI\") # Return all definite NPs from the compound table\n",
    "print(c.fetchall())"
   ]
  },
  {
   "cell_type": "markdown",
   "metadata": {},
   "source": [
    "*Surprisingly, the counts are quite similar for all possessives, but the unmarked strategy saw a decrease by around **600** items. This means that indefinite NPs are almost always unmarked (with but a few ones marked with some possessives, we'll have to check that). On the other hand most marked NPs are definite (with only a few marked being indefinite, we'll have to check that too).*\n",
    "\n",
    "*Now, let's first plot our hypotheses for POSS.2SG and POSS.3SG. We want to see whether there are indefinites marked with these strategies.*"
   ]
  },
  {
   "cell_type": "code",
   "execution_count": 152,
   "metadata": {},
   "outputs": [],
   "source": [
    "import matplotlib.pyplot as plt\n",
    "%matplotlib inline"
   ]
  },
  {
   "cell_type": "code",
   "execution_count": 153,
   "metadata": {},
   "outputs": [
    {
     "data": {
      "image/png": "[encoded data removed]",
      "text/plain": [
       "<Figure size 432x288 with 1 Axes>"
      ]
     },
     "metadata": {
      "needs_background": "light"
     },
     "output_type": "display_data"
    }
   ],
   "source": [
    "# PLOTS\n",
    "\n",
    "# plot 1\n",
    "c.execute(\"select PHI, DEF from texts\") # Return all NPs' PHI and DEF values\n",
    "X = []\n",
    "Y = []\n",
    "for item in c.fetchall(): # Make two distinct sets, the first containing PHI values, the second containing DEF values\n",
    "    new_X = item[0]\n",
    "    new_Y = item[1]\n",
    "    X.append(new_X)\n",
    "    Y.append(new_Y)\n",
    "\n",
    "plt.scatter(X, Y) # changing the color, adding labels\n",
    "plt.title('Definiteness and marking') # the title\n",
    "plt.ylabel('Definiteness')\n",
    "plt.xlabel('Marking strategy')\n",
    "plt.show()"
   ]
  },
  {
   "cell_type": "markdown",
   "metadata": {},
   "source": [
    "*We don't see any interesting results here, that we didn't see before, but once we fix the issues discussed above, there should be no dot at x = '2s' and y = 0.*\n",
    "\n",
    "*Let's plot the frequencies of these strategies for definites and for indefinites.*"
   ]
  },
  {
   "cell_type": "code",
   "execution_count": 154,
   "metadata": {},
   "outputs": [
    {
     "data": {
      "image/png": "[encoded data removed]",
      "text/plain": [
       "<Figure size 432x288 with 1 Axes>"
      ]
     },
     "metadata": {
      "needs_background": "light"
     },
     "output_type": "display_data"
    }
   ],
   "source": [
    "# plot 2\n",
    "c.execute(\"select PHI, count(PHI) from texts where DEF = 1 group by PHI\") # Return all definite NPs' PHI values and PHI counts\n",
    "X = []\n",
    "Y = []\n",
    "for item in c.fetchall(): # Make two distinct sets, the first containing PHI values, the second containing PHI counts\n",
    "    new_X = item[0]\n",
    "    new_Y = item[1]\n",
    "    Y.append(new_Y)\n",
    "    X.append(new_X)\n",
    "\n",
    "plt.bar(X, Y, color='blue')\n",
    "plt.title('Frequency of marking strategies for definites')\n",
    "plt.ylabel('Count')\n",
    "plt.xlabel('Marking strategy')\n",
    "plt.show()"
   ]
  },
  {
   "cell_type": "code",
   "execution_count": 155,
   "metadata": {},
   "outputs": [
    {
     "data": {
      "image/png": "[encoded data removed]",
      "text/plain": [
       "<Figure size 432x288 with 1 Axes>"
      ]
     },
     "metadata": {
      "needs_background": "light"
     },
     "output_type": "display_data"
    }
   ],
   "source": [
    "# plot 3\n",
    "c.execute(\"select PHI, count(PHI) from texts where DEF = 0 group by PHI\") # Return all indefinite NPs' PHI values and PHI counts\n",
    "X = []\n",
    "Y = []\n",
    "for item in c.fetchall(): # Make two distinct sets, the first containing PHI values, the second containing PHI counts\n",
    "    new_X = item[0]\n",
    "    new_Y = item[1]\n",
    "    Y.append(new_Y)\n",
    "    X.append(new_X)\n",
    "\n",
    "plt.bar(X, Y, color='red')\n",
    "plt.title('Frequency of marking strategies for indefinites')\n",
    "plt.ylabel('Count')\n",
    "plt.xlabel('Marking strategy')\n",
    "plt.show()"
   ]
  },
  {
   "cell_type": "markdown",
   "metadata": {},
   "source": [
    "*Again, we can see that for indefinites the clearly preferred strategy is the unmarked one, while for definites there is a preference for the unmarked one too, but POSS.3SG marking is also quite frequent.*\n",
    "\n",
    "*Overall, we can see that possessive marking does not necessarily mark definiteness.*\n",
    "\n",
    "*Another parameter that we have not concerned ourselves with before is the type of relation denoted by the possessive. Let's plot them to see which ones are most frequent.*\n",
    "\n",
    "*We can expect that non-possessive \"discourse\" possessive marking (labeled \"dis\" in our data) will be more frequent (as it is expected to deal with rather frequent notions such as definiteness or familiarity or discourse prominence) than all other (proper possessive) marking (bod — body part, fam — relative, rel — social relations, prt — part-whole, own — ownership, oth — other proper possessive relations).*"
   ]
  },
  {
   "cell_type": "code",
   "execution_count": 156,
   "metadata": {},
   "outputs": [
    {
     "data": {
      "image/png": "[encoded data removed]",
      "text/plain": [
       "<Figure size 432x288 with 1 Axes>"
      ]
     },
     "metadata": {
      "needs_background": "light"
     },
     "output_type": "display_data"
    }
   ],
   "source": [
    "# plot 4\n",
    "c.execute(\"select SEM, count(SEM) from texts where PSS = 1 group by SEM\") # Return all POSS-marked NPs' SEM values and SEM counts\n",
    "X = []\n",
    "Y = []\n",
    "for item in c.fetchall(): # Make two distinct sets, the first containing SEM values, the second containing SEM counts\n",
    "    new_X = item[0]\n",
    "    new_Y = item[1]\n",
    "    Y.append(new_Y)\n",
    "    X.append(new_X)\n",
    "\n",
    "plt.bar(X, Y, color='cyan')\n",
    "plt.title('Frequency of possessive relation types in POSS-marked NPs')\n",
    "plt.ylabel('Count')\n",
    "plt.xlabel('Marking strategy')\n",
    "plt.show()"
   ]
  },
  {
   "cell_type": "markdown",
   "metadata": {},
   "source": [
    "*Indeed, we find that non-possessive possessive marking is the most frequent one, although, family relations marking (\"fam\") is also quite frequent.*"
   ]
  },
  {
   "cell_type": "markdown",
   "metadata": {},
   "source": [
    "## New Plots\n",
    "\n",
    "Let's now compare the distributions of \"non-possessive\" POSS.2SG or POSS.3SG marked NPs in different texts. We expected that there will be no significant differences, since whathever the factors determining such non-possessive markings are — be it anaphoric accessibility of NP referents, topicality in whatever sense, specificity, etc. — they are expected to be roughly the same for long enough texts. (But not for very short texts, which are obviously not representative.) \n",
    "\n",
    "(NB: no statistical counts are done at this point, so our judgement is necessarily intuitive and preliminary and, therefore, should be taken with a grain of salt.)"
   ]
  },
  {
   "cell_type": "code",
   "execution_count": 157,
   "metadata": {},
   "outputs": [],
   "source": [
    "import seaborn as sns\n",
    "import pandas as pd"
   ]
  },
  {
   "cell_type": "code",
   "execution_count": 158,
   "metadata": {},
   "outputs": [
    {
     "data": {
      "text/html": [
       "<div>\n",
       "<style scoped>\n",
       "    .dataframe tbody tr th:only-of-type {\n",
       "        vertical-align: middle;\n",
       "    }\n",
       "\n",
       "    .dataframe tbody tr th {\n",
       "        vertical-align: top;\n",
       "    }\n",
       "\n",
       "    .dataframe thead th {\n",
       "        text-align: right;\n",
       "    }\n",
       "</style>\n",
       "<table border=\"1\" class=\"dataframe\">\n",
       "  <thead>\n",
       "    <tr style=\"text-align: right;\">\n",
       "      <th></th>\n",
       "      <th>Text</th>\n",
       "      <th>Marking</th>\n",
       "      <th>Count</th>\n",
       "    </tr>\n",
       "  </thead>\n",
       "  <tbody>\n",
       "    <tr>\n",
       "      <th>0</th>\n",
       "      <td>1</td>\n",
       "      <td>3s</td>\n",
       "      <td>3</td>\n",
       "    </tr>\n",
       "    <tr>\n",
       "      <th>1</th>\n",
       "      <td>1</td>\n",
       "      <td>n</td>\n",
       "      <td>32</td>\n",
       "    </tr>\n",
       "    <tr>\n",
       "      <th>2</th>\n",
       "      <td>2</td>\n",
       "      <td>2s</td>\n",
       "      <td>1</td>\n",
       "    </tr>\n",
       "    <tr>\n",
       "      <th>3</th>\n",
       "      <td>2</td>\n",
       "      <td>3s</td>\n",
       "      <td>43</td>\n",
       "    </tr>\n",
       "    <tr>\n",
       "      <th>4</th>\n",
       "      <td>2</td>\n",
       "      <td>n</td>\n",
       "      <td>221</td>\n",
       "    </tr>\n",
       "    <tr>\n",
       "      <th>5</th>\n",
       "      <td>3</td>\n",
       "      <td>2s</td>\n",
       "      <td>1</td>\n",
       "    </tr>\n",
       "    <tr>\n",
       "      <th>6</th>\n",
       "      <td>3</td>\n",
       "      <td>n</td>\n",
       "      <td>27</td>\n",
       "    </tr>\n",
       "    <tr>\n",
       "      <th>7</th>\n",
       "      <td>4</td>\n",
       "      <td>n</td>\n",
       "      <td>13</td>\n",
       "    </tr>\n",
       "    <tr>\n",
       "      <th>8</th>\n",
       "      <td>5</td>\n",
       "      <td>3s</td>\n",
       "      <td>4</td>\n",
       "    </tr>\n",
       "    <tr>\n",
       "      <th>9</th>\n",
       "      <td>5</td>\n",
       "      <td>n</td>\n",
       "      <td>102</td>\n",
       "    </tr>\n",
       "    <tr>\n",
       "      <th>10</th>\n",
       "      <td>6</td>\n",
       "      <td>2s</td>\n",
       "      <td>3</td>\n",
       "    </tr>\n",
       "    <tr>\n",
       "      <th>11</th>\n",
       "      <td>6</td>\n",
       "      <td>n</td>\n",
       "      <td>25</td>\n",
       "    </tr>\n",
       "    <tr>\n",
       "      <th>12</th>\n",
       "      <td>7</td>\n",
       "      <td>2s</td>\n",
       "      <td>1</td>\n",
       "    </tr>\n",
       "    <tr>\n",
       "      <th>13</th>\n",
       "      <td>7</td>\n",
       "      <td>3s</td>\n",
       "      <td>3</td>\n",
       "    </tr>\n",
       "    <tr>\n",
       "      <th>14</th>\n",
       "      <td>7</td>\n",
       "      <td>n</td>\n",
       "      <td>46</td>\n",
       "    </tr>\n",
       "    <tr>\n",
       "      <th>15</th>\n",
       "      <td>8</td>\n",
       "      <td>2s</td>\n",
       "      <td>6</td>\n",
       "    </tr>\n",
       "    <tr>\n",
       "      <th>16</th>\n",
       "      <td>8</td>\n",
       "      <td>3s</td>\n",
       "      <td>31</td>\n",
       "    </tr>\n",
       "    <tr>\n",
       "      <th>17</th>\n",
       "      <td>8</td>\n",
       "      <td>n</td>\n",
       "      <td>263</td>\n",
       "    </tr>\n",
       "    <tr>\n",
       "      <th>18</th>\n",
       "      <td>9</td>\n",
       "      <td>2s</td>\n",
       "      <td>1</td>\n",
       "    </tr>\n",
       "    <tr>\n",
       "      <th>19</th>\n",
       "      <td>9</td>\n",
       "      <td>3s</td>\n",
       "      <td>10</td>\n",
       "    </tr>\n",
       "    <tr>\n",
       "      <th>20</th>\n",
       "      <td>9</td>\n",
       "      <td>n</td>\n",
       "      <td>15</td>\n",
       "    </tr>\n",
       "    <tr>\n",
       "      <th>21</th>\n",
       "      <td>10</td>\n",
       "      <td>2s</td>\n",
       "      <td>1</td>\n",
       "    </tr>\n",
       "    <tr>\n",
       "      <th>22</th>\n",
       "      <td>10</td>\n",
       "      <td>3s</td>\n",
       "      <td>34</td>\n",
       "    </tr>\n",
       "    <tr>\n",
       "      <th>23</th>\n",
       "      <td>10</td>\n",
       "      <td>n</td>\n",
       "      <td>225</td>\n",
       "    </tr>\n",
       "    <tr>\n",
       "      <th>24</th>\n",
       "      <td>11</td>\n",
       "      <td>2s</td>\n",
       "      <td>12</td>\n",
       "    </tr>\n",
       "    <tr>\n",
       "      <th>25</th>\n",
       "      <td>11</td>\n",
       "      <td>3s</td>\n",
       "      <td>30</td>\n",
       "    </tr>\n",
       "    <tr>\n",
       "      <th>26</th>\n",
       "      <td>11</td>\n",
       "      <td>n</td>\n",
       "      <td>264</td>\n",
       "    </tr>\n",
       "    <tr>\n",
       "      <th>27</th>\n",
       "      <td>12</td>\n",
       "      <td>n</td>\n",
       "      <td>9</td>\n",
       "    </tr>\n",
       "    <tr>\n",
       "      <th>28</th>\n",
       "      <td>13</td>\n",
       "      <td>2s</td>\n",
       "      <td>9</td>\n",
       "    </tr>\n",
       "    <tr>\n",
       "      <th>29</th>\n",
       "      <td>13</td>\n",
       "      <td>3s</td>\n",
       "      <td>3</td>\n",
       "    </tr>\n",
       "    <tr>\n",
       "      <th>30</th>\n",
       "      <td>13</td>\n",
       "      <td>n</td>\n",
       "      <td>15</td>\n",
       "    </tr>\n",
       "    <tr>\n",
       "      <th>31</th>\n",
       "      <td>14</td>\n",
       "      <td>2s</td>\n",
       "      <td>2</td>\n",
       "    </tr>\n",
       "    <tr>\n",
       "      <th>32</th>\n",
       "      <td>14</td>\n",
       "      <td>3s</td>\n",
       "      <td>20</td>\n",
       "    </tr>\n",
       "    <tr>\n",
       "      <th>33</th>\n",
       "      <td>14</td>\n",
       "      <td>n</td>\n",
       "      <td>133</td>\n",
       "    </tr>\n",
       "    <tr>\n",
       "      <th>34</th>\n",
       "      <td>15</td>\n",
       "      <td>2s</td>\n",
       "      <td>2</td>\n",
       "    </tr>\n",
       "    <tr>\n",
       "      <th>35</th>\n",
       "      <td>15</td>\n",
       "      <td>n</td>\n",
       "      <td>93</td>\n",
       "    </tr>\n",
       "  </tbody>\n",
       "</table>\n",
       "</div>"
      ],
      "text/plain": [
       "   Text Marking  Count\n",
       "0     1      3s      3\n",
       "1     1       n     32\n",
       "2     2      2s      1\n",
       "3     2      3s     43\n",
       "4     2       n    221\n",
       "5     3      2s      1\n",
       "6     3       n     27\n",
       "7     4       n     13\n",
       "8     5      3s      4\n",
       "9     5       n    102\n",
       "10    6      2s      3\n",
       "11    6       n     25\n",
       "12    7      2s      1\n",
       "13    7      3s      3\n",
       "14    7       n     46\n",
       "15    8      2s      6\n",
       "16    8      3s     31\n",
       "17    8       n    263\n",
       "18    9      2s      1\n",
       "19    9      3s     10\n",
       "20    9       n     15\n",
       "21   10      2s      1\n",
       "22   10      3s     34\n",
       "23   10       n    225\n",
       "24   11      2s     12\n",
       "25   11      3s     30\n",
       "26   11       n    264\n",
       "27   12       n      9\n",
       "28   13      2s      9\n",
       "29   13      3s      3\n",
       "30   13       n     15\n",
       "31   14      2s      2\n",
       "32   14      3s     20\n",
       "33   14       n    133\n",
       "34   15      2s      2\n",
       "35   15       n     93"
      ]
     },
     "execution_count": 158,
     "metadata": {},
     "output_type": "execute_result"
    }
   ],
   "source": [
    "# NEW: create a dataframe with markings and marking counts for each text\n",
    "phi_count = {'Text': [], 'Marking': [], 'Count': []}\n",
    "for n in tab_num:\n",
    "    tabcom = \"select PHI, count(PHI) from text%s where (SEM = 'dis' or SEM = 'n') AND (PHI = '2s' or PHI = '3s' or PHI = 'n') group by PHI\" % n  # Return all 2SG.POSS or 3SG.POSS or un-marked NPs' PHI values and PHI counts\n",
    "    c.execute(tabcom)\n",
    "    text = '%s' % n\n",
    "    for row in c.fetchall():\n",
    "        phi_count['Text'].append(text)\n",
    "        phi_count['Marking'].append(row[0])\n",
    "        phi_count['Count'].append(row[1])\n",
    "\n",
    "df = pd.DataFrame(phi_count)\n",
    "df"
   ]
  },
  {
   "cell_type": "code",
   "execution_count": 159,
   "metadata": {},
   "outputs": [
    {
     "data": {
      "image/png": "[encoded data removed]",
      "text/plain": [
       "<Figure size 1008x720 with 1 Axes>"
      ]
     },
     "metadata": {
      "needs_background": "light"
     },
     "output_type": "display_data"
    }
   ],
   "source": [
    "# NEW: plot 5\n",
    "\n",
    "sns.set_context({\"figure.figsize\": (14, 10)})\n",
    "\n",
    "sns.barplot(x=\"Text\", y=\"Count\", hue='Marking', data=df)\n",
    "plt.title('Non-possessive possessive marking distributions for each text').set_fontsize(16)\n",
    "plt.xlabel('Text Number').set_fontsize(16)\n",
    "plt.ylabel('Marking Count').set_fontsize(16)"
   ]
  },
  {
   "cell_type": "markdown",
   "metadata": {},
   "source": [
    "We can see that texts №№ 1, 2, 8, 10, 11, and 14 behave roughly the same w. r. t. POSS.3SG/n marking, while № 5 has a visibly lesser POSS.3SG/n ratio (as compared *e.g.* to 14), № 9 has a visibly higher POSS.3SG/n ratio, and №№ 3, 4, 6, 12, 15 appear to have no POSS.3SG marking at all. It's interesting to see whether this difference is derived from a difference in some objective factors such as *e.g.* amount of partitive specific contexts, or the difference is purely text- (speaker-) dependent.\n",
    "\n",
    "POSS.2SG marking seem to be scarce and rather differently distributed in different texts. The amount of POSS.2SG marking in № 13 seems way higher than in №№ 11 or 8 if we consider percentages, while in №№ 1, 4, 5, and 12 there seems to be no POSS.2SG marked NPs.\n",
    "\n",
    "Let's also consider a stacked bar chart with percentages to see whether our ratio observations are correct. For this purpose we have to create another database with counts for each marking type in separate columns.\n",
    "\n",
    "At this point I had to go a little crazy with \"if else\" statements, but in the end I made it work."
   ]
  },
  {
   "cell_type": "code",
   "execution_count": 160,
   "metadata": {},
   "outputs": [
    {
     "data": {
      "text/html": [
       "<div>\n",
       "<style scoped>\n",
       "    .dataframe tbody tr th:only-of-type {\n",
       "        vertical-align: middle;\n",
       "    }\n",
       "\n",
       "    .dataframe tbody tr th {\n",
       "        vertical-align: top;\n",
       "    }\n",
       "\n",
       "    .dataframe thead th {\n",
       "        text-align: right;\n",
       "    }\n",
       "</style>\n",
       "<table border=\"1\" class=\"dataframe\">\n",
       "  <thead>\n",
       "    <tr style=\"text-align: right;\">\n",
       "      <th></th>\n",
       "      <th>Text</th>\n",
       "      <th>Unmarked</th>\n",
       "      <th>POSS2SG</th>\n",
       "      <th>POSS3SG</th>\n",
       "    </tr>\n",
       "  </thead>\n",
       "  <tbody>\n",
       "    <tr>\n",
       "      <th>0</th>\n",
       "      <td>1</td>\n",
       "      <td>32</td>\n",
       "      <td>0</td>\n",
       "      <td>3</td>\n",
       "    </tr>\n",
       "    <tr>\n",
       "      <th>1</th>\n",
       "      <td>2</td>\n",
       "      <td>221</td>\n",
       "      <td>1</td>\n",
       "      <td>43</td>\n",
       "    </tr>\n",
       "    <tr>\n",
       "      <th>2</th>\n",
       "      <td>3</td>\n",
       "      <td>27</td>\n",
       "      <td>1</td>\n",
       "      <td>0</td>\n",
       "    </tr>\n",
       "    <tr>\n",
       "      <th>3</th>\n",
       "      <td>4</td>\n",
       "      <td>13</td>\n",
       "      <td>0</td>\n",
       "      <td>0</td>\n",
       "    </tr>\n",
       "    <tr>\n",
       "      <th>4</th>\n",
       "      <td>5</td>\n",
       "      <td>102</td>\n",
       "      <td>0</td>\n",
       "      <td>4</td>\n",
       "    </tr>\n",
       "    <tr>\n",
       "      <th>5</th>\n",
       "      <td>6</td>\n",
       "      <td>25</td>\n",
       "      <td>3</td>\n",
       "      <td>0</td>\n",
       "    </tr>\n",
       "    <tr>\n",
       "      <th>6</th>\n",
       "      <td>7</td>\n",
       "      <td>46</td>\n",
       "      <td>1</td>\n",
       "      <td>3</td>\n",
       "    </tr>\n",
       "    <tr>\n",
       "      <th>7</th>\n",
       "      <td>8</td>\n",
       "      <td>263</td>\n",
       "      <td>6</td>\n",
       "      <td>31</td>\n",
       "    </tr>\n",
       "    <tr>\n",
       "      <th>8</th>\n",
       "      <td>9</td>\n",
       "      <td>15</td>\n",
       "      <td>1</td>\n",
       "      <td>10</td>\n",
       "    </tr>\n",
       "    <tr>\n",
       "      <th>9</th>\n",
       "      <td>10</td>\n",
       "      <td>225</td>\n",
       "      <td>1</td>\n",
       "      <td>34</td>\n",
       "    </tr>\n",
       "    <tr>\n",
       "      <th>10</th>\n",
       "      <td>11</td>\n",
       "      <td>264</td>\n",
       "      <td>12</td>\n",
       "      <td>30</td>\n",
       "    </tr>\n",
       "    <tr>\n",
       "      <th>11</th>\n",
       "      <td>12</td>\n",
       "      <td>9</td>\n",
       "      <td>0</td>\n",
       "      <td>0</td>\n",
       "    </tr>\n",
       "    <tr>\n",
       "      <th>12</th>\n",
       "      <td>13</td>\n",
       "      <td>15</td>\n",
       "      <td>9</td>\n",
       "      <td>3</td>\n",
       "    </tr>\n",
       "    <tr>\n",
       "      <th>13</th>\n",
       "      <td>14</td>\n",
       "      <td>133</td>\n",
       "      <td>2</td>\n",
       "      <td>20</td>\n",
       "    </tr>\n",
       "    <tr>\n",
       "      <th>14</th>\n",
       "      <td>15</td>\n",
       "      <td>93</td>\n",
       "      <td>2</td>\n",
       "      <td>0</td>\n",
       "    </tr>\n",
       "  </tbody>\n",
       "</table>\n",
       "</div>"
      ],
      "text/plain": [
       "    Text  Unmarked  POSS2SG  POSS3SG\n",
       "0      1        32        0        3\n",
       "1      2       221        1       43\n",
       "2      3        27        1        0\n",
       "3      4        13        0        0\n",
       "4      5       102        0        4\n",
       "5      6        25        3        0\n",
       "6      7        46        1        3\n",
       "7      8       263        6       31\n",
       "8      9        15        1       10\n",
       "9     10       225        1       34\n",
       "10    11       264       12       30\n",
       "11    12         9        0        0\n",
       "12    13        15        9        3\n",
       "13    14       133        2       20\n",
       "14    15        93        2        0"
      ]
     },
     "execution_count": 160,
     "metadata": {},
     "output_type": "execute_result"
    }
   ],
   "source": [
    "# NEW: create a dataframe with counts for each marking type in separate columns\n",
    "\n",
    "sep_phi = {'Text': [], 'Unmarked': [], 'POSS2SG': [], 'POSS3SG': []}\n",
    "\n",
    "i = 0 # this variable tracks rows in the original dataframe\n",
    "n = 1 # this variable tracks rows in the new dataframe\n",
    "for x in phi_count['Text']:\n",
    "    if i < 36: # for some reason without this \"if else\" statement I get a \"list index out of range\" error at some point, so I just leave it be, since it works\n",
    "        sep_phi['Text'].append(n)\n",
    "        # the following set of \"if else\" statements check whether the count in this row is for a particular type of marking\n",
    "        # if not, then we add a 0 to our new database for the count of this type of marking for the given text and move on in the same fashion\n",
    "        # along the way we increment i appropriately or if a zero must be inputed we don't increment it\n",
    "        if phi_count['Marking'][i] == '2s':\n",
    "            sep_phi['POSS2SG'].append(phi_count['Count'][i])\n",
    "            i = i + 1\n",
    "            if phi_count['Marking'][i] == '3s':\n",
    "                sep_phi['POSS3SG'].append(phi_count['Count'][i])\n",
    "                i = i + 1\n",
    "            else:\n",
    "                sep_phi['POSS3SG'].append(0)\n",
    "            sep_phi['Unmarked'].append(phi_count['Count'][i])\n",
    "            i = i + 1\n",
    "            n = n + 1\n",
    "        else:\n",
    "            sep_phi['POSS2SG'].append(0)\n",
    "            if phi_count['Marking'][i] == '3s':\n",
    "                sep_phi['POSS3SG'].append(phi_count['Count'][i])\n",
    "                i = i + 1\n",
    "            else:\n",
    "                sep_phi['POSS3SG'].append(0)\n",
    "            sep_phi['Unmarked'].append(phi_count['Count'][i])\n",
    "            i = i + 1\n",
    "            n = n + 1\n",
    "    else:\n",
    "        break\n",
    "\n",
    "df2 = pd.DataFrame(sep_phi)\n",
    "df2"
   ]
  },
  {
   "cell_type": "code",
   "execution_count": 161,
   "metadata": {},
   "outputs": [
    {
     "data": {
      "image/png": "[encoded data removed]",
      "text/plain": [
       "<Figure size 1008x720 with 1 Axes>"
      ]
     },
     "metadata": {},
     "output_type": "display_data"
    }
   ],
   "source": [
    "# NEW: plot 6\n",
    "\n",
    "#Create total column and percentage variants for unmarked\n",
    "df2[\"TotPer\"] = 100\n",
    "df2[\"P3SPer\"] = (df2.POSS3SG / (df2.Unmarked + df2.POSS3SG)) * 100\n",
    "\n",
    "#Set general plot properties\n",
    "sns.set_style(\"white\")\n",
    "sns.set_context({\"figure.figsize\": (14, 10)})\n",
    "\n",
    "#Plot 1 - background - \"unmarked + POSS.3SG\" (essentially giving the unmarked part of each bar)\n",
    "mid_plot = sns.barplot(x = df2.Text, y = df2.TotPer, color = \"orange\")\n",
    "\n",
    "#Plot 2 - overlay 2 - POSS.3SG part of each bar\n",
    "bottom_plot = sns.barplot(x = df2.Text, y = df2.P3SPer, color = \"blue\")\n",
    "\n",
    "# Legend\n",
    "midbar = plt.Rectangle((0,0),1,1,fc=\"blue\", edgecolor = 'none')\n",
    "bottombar = plt.Rectangle((0,0),1,1,fc='orange',  edgecolor = 'none')\n",
    "l = plt.legend([bottombar, midbar], \n",
    "               ['Unmarked', 'POSS.3SG'], \n",
    "               ncol = 1, bbox_to_anchor=(1.05, 1), loc='upper left', borderaxespad=0.)\n",
    "l.draw_frame(True)\n",
    "\n",
    "# Title\n",
    "plt.title('POSS.3SG marking compared to the unmarked strategy for each text in %').set_fontsize(16)\n",
    "\n",
    "sns.despine(left=True)\n",
    "bottom_plot.set_xlabel(\"Text\")\n",
    "bottom_plot.set_ylabel(\"Counts in %\")\n",
    "\n",
    "#Set fonts to consistent 16pt size\n",
    "for item in ([bottom_plot.xaxis.label, bottom_plot.yaxis.label] +\n",
    "             bottom_plot.get_xticklabels() + bottom_plot.get_yticklabels()):\n",
    "    item.set_fontsize(16)"
   ]
  },
  {
   "cell_type": "markdown",
   "metadata": {},
   "source": [
    "On this plot the percentage of POSS.3SG marking in № 5 doesn't seem as different from other №№, where such marking is present. On the other hand, here we can again see that № 9 indeed has excessive POSS.3SG marking. №№ 3, 4, 6, 12, 15 indeed have no POSS.3SG marking, which has to be explained in future work.\n",
    "\n",
    "Now let's turn to POSS.2SG marking."
   ]
  },
  {
   "cell_type": "code",
   "execution_count": 162,
   "metadata": {},
   "outputs": [
    {
     "data": {
      "image/png": "[encoded data removed]",
      "text/plain": [
       "<Figure size 1008x720 with 1 Axes>"
      ]
     },
     "metadata": {},
     "output_type": "display_data"
    }
   ],
   "source": [
    "# NEW: plot 7\n",
    "\n",
    "#Create total column and percentage variants for unmarked\n",
    "df2[\"TotPer\"] = 100\n",
    "df2[\"P2SPer\"] = (df2.POSS2SG / (df2.Unmarked + df2.POSS2SG)) * 100\n",
    "\n",
    "#Set general plot properties\n",
    "sns.set_style(\"white\")\n",
    "sns.set_context({\"figure.figsize\": (14, 10)})\n",
    "\n",
    "#Plot 1 - background - \"unmarked + POSS.2SG\" (essentially giving the unmarked part of each bar)\n",
    "mid_plot = sns.barplot(x = df2.Text, y = df2.TotPer, color = \"orange\")\n",
    "\n",
    "#Plot 2 - overlay 2 - POSS.2SG part of each bar\n",
    "bottom_plot = sns.barplot(x = df2.Text, y = df2.P2SPer, color = \"green\")\n",
    "\n",
    "# Legend\n",
    "midbar = plt.Rectangle((0,0),1,1,fc=\"green\", edgecolor = 'none')\n",
    "bottombar = plt.Rectangle((0,0),1,1,fc='orange',  edgecolor = 'none')\n",
    "l = plt.legend([bottombar, midbar], \n",
    "               ['Unmarked', 'POSS.2SG'], \n",
    "               ncol = 1, bbox_to_anchor=(1.05, 1), loc='upper left', borderaxespad=0.)\n",
    "l.draw_frame(True)\n",
    "\n",
    "# Title\n",
    "plt.title('POSS.2SG marking compared to the unmarked strategy for each text in %').set_fontsize(16)\n",
    "\n",
    "sns.despine(left=True)\n",
    "bottom_plot.set_xlabel(\"Text\")\n",
    "bottom_plot.set_ylabel(\"Counts in %\")\n",
    "\n",
    "#Set fonts to consistent 16pt size\n",
    "for item in ([bottom_plot.xaxis.label, bottom_plot.yaxis.label] +\n",
    "             bottom_plot.get_xticklabels() + bottom_plot.get_yticklabels()):\n",
    "    item.set_fontsize(16)"
   ]
  },
  {
   "cell_type": "markdown",
   "metadata": {},
   "source": [
    "It's clear that overall POSS.2SG marking is less frequent than POSS.3SG marking. On this plot the distribution doesn't seem more chaotic as compared to POSS.3SG. №№ 1, 4, 5, and 12 indeed have no POSS.2SG marking, which will also have to be explained in future work.\n",
    "\n",
    "Note that № 12 is the only text in which both kinds of marking are absent. Thus, the present data speak against the hypothesis according to which some texts (speakers) disprefer non-possessive possessive marking generally — the presence of POSS.2SG marking is independent from the presence of POSS.3SG marking. This raises my hopes that the distributions of such POSSs in texts dependend on some objective factors, as suggested above."
   ]
  },
  {
   "cell_type": "code",
   "execution_count": 163,
   "metadata": {},
   "outputs": [],
   "source": [
    "conn.close()"
   ]
  },
  {
   "cell_type": "code",
   "execution_count": null,
   "metadata": {},
   "outputs": [],
   "source": []
  }
 ],
 "metadata": {
  "kernelspec": {
   "display_name": "Python 3",
   "language": "python",
   "name": "python3"
  },
  "language_info": {
   "codemirror_mode": {
    "name": "ipython",
    "version": 3
   },
   "file_extension": ".py",
   "mimetype": "text/x-python",
   "name": "python",
   "nbconvert_exporter": "python",
   "pygments_lexer": "ipython3",
   "version": "3.8.6rc1"
  }
 },
 "nbformat": 4,
 "nbformat_minor": 4
}
