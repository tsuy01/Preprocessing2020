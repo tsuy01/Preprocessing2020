{
 "cells": [
  {
   "cell_type": "markdown",
   "metadata": {},
   "source": [
    "# Homework 2\n",
    "## Stiopa Mikhailov\n",
    "### 28.10.2020\n",
    "\n",
    "In this homework I'm using two tables that correspond to NPs extracted from two texts of the Northern Khanty corpus by E. V. Kashkin and marked-up for some 19 parameters of NPs relevant to possessive marking. The data initially come in Excel tables with 3 sheets. First, I extracted the relevant sheet with marked-up NPs by hand."
   ]
  },
  {
   "cell_type": "code",
   "execution_count": 1,
   "metadata": {},
   "outputs": [],
   "source": [
    "# CREATING TABLES\n",
    "\n",
    "import sqlite3\n",
    "\n",
    "# connecting to the database / creating it if it's not there yet\n",
    "conn = sqlite3.connect('example.db')\n",
    "\n",
    "# creating a cursor object we will be sending our queries to\n",
    "c = conn.cursor()\n",
    "\n",
    "# creating the first table\n",
    "c.execute(\"drop table if exists text1\")\n",
    "c.execute(\"CREATE TABLE IF NOT EXISTS text1(NP_ID text, Noun text, NP_Morph text, NP_Gloss text, ASP text, CNJ text, POS text, PSS text, PHI text, SEM text, MRK text, DRV text, DET text, NPS bool, NUM text, ANM text, SYN text, DEF bool, REF bool)\")\n",
    "conn.commit()\n",
    "\n",
    "import csv\n",
    "with open('KS.tsv', newline='', encoding = 'UTF-8') as csvfile:\n",
    "    spamreader = csv.reader(csvfile, delimiter='\\t', quotechar='|')\n",
    "    for row in spamreader:\n",
    "        x = row[1]\n",
    "        y = row[2]\n",
    "        z = row[3]\n",
    "        a = row[4]\n",
    "        b = row[5]\n",
    "        d = row[6]\n",
    "        e = row[7]\n",
    "        g = row[8]\n",
    "        f = row[0]\n",
    "        h = row[9]\n",
    "        i = row[10]\n",
    "        j = row[11]\n",
    "        k = row[12]\n",
    "        l = row[13]\n",
    "        m = row[14]\n",
    "        n = row[15]\n",
    "        o = row[16]\n",
    "        p = row[17]\n",
    "        q = row[18]\n",
    "        c.execute('INSERT INTO text1 VALUES (?, ?, ?, ?, ?, ?, ?, ?, ?, ?, ?, ?, ?, ?, ?, ?, ?, ?, ?)', (f, x, y, z, a, b, d, e, g, h, i, j, k, l, m, n, o, p, q))\n",
    "\n",
    "c.execute(\"delete from text1 where PHI = 'PHI'\") # delete the first row which contains column names\n",
    "conn.commit()\n",
    "\n",
    "# creating the second table\n",
    "c.execute(\"drop table if exists text2\")\n",
    "c.execute(\"CREATE TABLE IF NOT EXISTS text2(NP_ID text, Noun text, NP_Morph text, NP_Gloss text, ASP text, CNJ text, POS text, PSS text, PHI text, SEM text, MRK text, DRV text, DET text, NPS bool, NUM text, ANM text, SYN text, DEF bool, REF bool)\")\n",
    "conn.commit()\n",
    "\n",
    "with open('MT.tsv', newline='', encoding = 'UTF-8') as csvfile:\n",
    "    spamreader = csv.reader(csvfile, delimiter='\\t', quotechar='|')\n",
    "    for row in spamreader:\n",
    "        x = row[1]\n",
    "        y = row[2]\n",
    "        z = row[3]\n",
    "        a = row[4]\n",
    "        b = row[5]\n",
    "        d = row[6]\n",
    "        e = row[7]\n",
    "        g = row[8]\n",
    "        f = row[0]\n",
    "        h = row[9]\n",
    "        i = row[10]\n",
    "        j = row[11]\n",
    "        k = row[12]\n",
    "        l = row[13]\n",
    "        m = row[14]\n",
    "        n = row[15]\n",
    "        o = row[16]\n",
    "        p = row[17]\n",
    "        q = row[18]\n",
    "        c.execute('INSERT INTO text2 VALUES (?, ?, ?, ?, ?, ?, ?, ?, ?, ?, ?, ?, ?, ?, ?, ?, ?, ?, ?)', (f, x, y, z, a, b, d, e, g, h, i, j, k, l, m, n, o, p, q))\n",
    "\n",
    "c.execute(\"delete from text2 where PHI = 'PHI'\") # delete the first row which contains column names\n",
    "c.execute(\"delete from text2 where PHI = ''\") # delete all null rows that somehow found their way into the table\n",
    "conn.commit()\n"
   ]
  },
  {
   "cell_type": "markdown",
   "metadata": {},
   "source": [
    "I'm creating a table for each text here, since in our project part of the mark-up was done by hand for each text individually and it is easier to bring them all together into a single table using SQL queries rather than by hand. This way we can also compare different texts, in case the text is a variable that affects possessive marking."
   ]
  },
  {
   "cell_type": "code",
   "execution_count": 2,
   "metadata": {},
   "outputs": [
    {
     "name": "stdout",
     "output_type": "stream",
     "text": [
      "[('KS01901', 'xɔt -en', 'xɔt -en', 'дом 2SG', 'i', 'sbj', 's', '1', '2s', 'own', 'nul', 'nul', 'nul', 0, 's', 'non', 'sbj', 1, 1), ('KS04401', 'jiwewe -n', 'jiwewe -n', 'сводная сестра 2SG', 'p', 'obj', 's', '1', '2s', 'fam', 'nul', 'nul', 'nul', 0, 's', 'hum', 'obj', 1, 1), ('KS06001', 'pox -en', 'pox -en', 'сын 2SG', 'p', 'sbj', 's', '1', '2s', 'dis', 'nul', 'nul', 'nul', 0, 's', 'hum', 'obj', 0, 0), ('KS06601', 'pox -en', 'pox -en', 'сын 2SG', 'p', 'sbj', 's', '1', '2s', 'dis', 'nul', 'nul', 'nul', 0, 's', 'hum', 'obj', 0, 0), ('KS07201', 'pox -en', 'pox -en', 'сын 2SG', 'p', 'sbj', 's', '1', '2s', 'dis', 'nul', 'nul', 'nul', 0, 's', 'hum', 'obj', 0, 0), ('KS09101', 'pox -en', 'pox -en', 'сын 2SG', 'p', 'sbj', 's', '1', '2s', 'dis', 'nul', 'nul', 'nul', 0, 's', 'hum', 'obj', 0, 0), ('KS10201', 'pox -en', 'pox -en', 'сын 2SG', 'p', 'sbj', 's', '1', '2s', 'dis', 'nul', 'nul', 'nul', 0, 's', 'hum', 'obj', 0, 0), ('KS13703', 'pox -en -a', 'nin pox -en -a', 'вы сын 2SG DAT', 'p', 'obj', 's', '1', '2s', 'fam', 'dat', 'nul', 'nul', 0, 's', 'hum', 'iob', 1, 1), ('KS14301', 'put -en', 'put -en', 'котел 2SG', 'i', 'sbj', 's', '1', '2s', 'own', 'nul', 'nul', 'nul', 0, 's', 'non', 'gen', 1, 1), ('KS14304', 'xɔt -en', 'xɔt -en', 'дом 2SG', 'i', 'sbj', 's', '1', '2s', 'own', 'nul', 'nul', 'nul', 0, 's', 'non', 'gen', 1, 1), ('KS15001', 'put -en', 'put -en', 'котел 2SG', 'i', 'sbj', 's', '1', '2s', 'own', 'nul', 'nul', 'nul', 0, 's', 'non', 'gen', 1, 1), ('KS15004', 'xɔt -en', 'xɔt -en', 'дом 2SG', 'i', 'sbj', 's', '1', '2s', 'own', 'nul', 'nul', 'nul', 0, 's', 'non', 'gen', 1, 1), ('KS15703', 'tut -en', 'tut -en', 'огонь 2SG', 'i', 'sbj', 's', '1', '2s', 'dis', 'nul', 'nul', 'nul', 0, 'nu', 'non', 'sbj', 0, 1), ('KS15704', 'put -en', 'put -en', ' котел 2SG', 'i', 'sbj', 's', '1', '2s', 'own', 'nul', 'nul', 'nul', 0, 's', 'non', 'gen', 1, 1), ('MT00801', 'ewe -n', 'ewe -n', 'дочь 2SG', 'p', 'obj', 's', '1', '2s', 'fam', 'nul', 'nul', 'nul', 0, 's', 'hum', 'obj', 1, 1), ('MT05802', 'sapł -en -a', 'sapł -en -a', 'шея 2SG DAT', 'p', 'obj', 's', '1', '2s', 'bod', 'dat', 'nul', 'nul', 0, 's', 'non', 'iob', 1, 1), ('MT05901', 'šarp -en', 'śi šarp -en', 'этот шарф 2SG', 'p', 'obj', 's', '1', '2s', 'dis', 'nul', 'nul', 'si', 0, 's', 'non', 'obj', 1, 1), ('MT07901', 'wurśək -leŋke -n -ən', 'wurśək -leŋke -n -ən', 'трясогузка DIM 2SG LOC', 'i', 'sbj', 's', '1', '2s', 'dis', 'loc', 'dim', 'nul', 0, 's', 'anm', 'iob', 1, 1), ('MT08003', 'mewł -en', 'mewł -en', 'грудь 2SG', 'p', 'sbj', 's', '1', '2s', 'bod', 'psp', 'nul', 'nul', 0, 's', 'non', 'pob', 1, 1), ('MT08004', 'jintəp -en', 'łapət jintəp -en', 'семь игла 2SG', 'p', 'sbj', 's', '1', '2s', 'dis', 'nul', 'nul', 'nul', 0, 's', 'non', 'obj', 1, 1), ('MT08101', 'wurśək -leŋke -n', 'wurśək -leŋke -n', 'трясогузка DIM 2SG', 'p', 'sbj', 's', '1', '2s', 'dis', 'nul', 'dim', 'nul', 0, 's', 'anm', 'sbj', 1, 1), ('MT08401', 'wurśək -leŋke -n', 'wurśək -leŋke -n', 'трясогузка DIM 2SG', 'p', 'sbj', 's', '1', '2s', 'dis', 'nul', 'dim', 'nul', 0, 's', 'anm', 'sbj', 1, 1), ('MT09605', 'wɔš -en', 'xătəł xɔn wɔš -en', 'солнце царь город 2SG', 'i', 'sbj', 's', '1', '2s', 'dis', 'nul', 'nul', 'nul', 1, 's', 'non', 'sbj', 1, 1), ('MT09802', 'jɔx -ł -an', 'łałʼ jɔx -ł -an', 'война люди PL 2SG', 'p', 'sbj', 's', '1', '2s', 'dis', 'nul', 'nul', 'nul', 1, 'p', 'hum', 'sbj', 1, 1), ('MT09902', 'jintəp -ł -an', 'jintəp -ł -an', 'игла PL 2SG', 'p', 'obj', 's', '1', '2s', 'dis', 'nul', 'nul', 'nul', 0, 'p', 'non', 'obj', 1, 1), ('MT10404', 'jɔx -ł -an', 'in łałʼ jɔx -ł -an', 'этот война люди PL 2SG', 'i', 'sbj', 's', '1', '2s', 'dis', 'nul', 'nul', 'in', 1, 'p', 'hum', 'gen', 1, 1), ('MT10901', 'ime -n', 'śi ime -n', 'этот женщина 2SG', 'p', 'sbj', 's', '1', '2s', 'dis', 'nul', 'nul', 'si', 0, 's', 'hum', 'sbj', 1, 1), ('MT11003', 'ike -n', 'tǫrəm xɔn ike -n', 'небо царь мужчина 2SG', 'i', 'sbj', 's', '1', '2s', 'dis', 'nul', 'nul', 'nul', 1, 's', 'hum', 'sbj', 1, 1), ('MT12102', 'śi xǫ -j -ł', 'śi xǫ -j -ł', 'этот мужчина STEM PL 2SG', 'p', 'sbj', 's', '1', '2s', 'dis', 'nul', 'nul', 'si', 0, 'p', 'hum', 'sbj', 1, 1)]\n"
     ]
    }
   ],
   "source": [
    "# QUERIES\n",
    "\n",
    "# creating a compound table with both texts\n",
    "c.execute(\"drop table if exists texts\")\n",
    "c.execute(\"CREATE TABLE IF NOT EXISTS texts(NP_ID text, Noun text, NP_Morph text, NP_Gloss text, ASP text, CNJ text, POS text, PSS text, PHI text, SEM text, MRK text, DRV text, DET text, NPS bool, NUM text, ANM text, SYN text, DEF bool, REF bool)\")\n",
    "conn.commit()\n",
    "\n",
    "c.execute(\"select * from text1\")\n",
    "for row in c.fetchall():\n",
    "    x = row[1]\n",
    "    y = row[2]\n",
    "    z = row[3]\n",
    "    a = row[4]\n",
    "    b = row[5]\n",
    "    d = row[6]\n",
    "    e = row[7]\n",
    "    g = row[8]\n",
    "    f = row[0]\n",
    "    h = row[9]\n",
    "    i = row[10]\n",
    "    j = row[11]\n",
    "    k = row[12]\n",
    "    l = row[13]\n",
    "    m = row[14]\n",
    "    n = row[15]\n",
    "    o = row[16]\n",
    "    p = row[17]\n",
    "    q = row[18]\n",
    "    c.execute('INSERT INTO texts VALUES (?, ?, ?, ?, ?, ?, ?, ?, ?, ?, ?, ?, ?, ?, ?, ?, ?, ?, ?)', (f, x, y, z, a, b, d, e, g, h, i, j, k, l, m, n, o, p, q))\n",
    "\n",
    "conn.commit()\n",
    "\n",
    "c.execute(\"select * from text2\")\n",
    "for row in c.fetchall():\n",
    "    x = row[1]\n",
    "    y = row[2]\n",
    "    z = row[3]\n",
    "    a = row[4]\n",
    "    b = row[5]\n",
    "    d = row[6]\n",
    "    e = row[7]\n",
    "    g = row[8]\n",
    "    f = row[0]\n",
    "    h = row[9]\n",
    "    i = row[10]\n",
    "    j = row[11]\n",
    "    k = row[12]\n",
    "    l = row[13]\n",
    "    m = row[14]\n",
    "    n = row[15]\n",
    "    o = row[16]\n",
    "    p = row[17]\n",
    "    q = row[18]\n",
    "    c.execute('INSERT INTO texts VALUES (?, ?, ?, ?, ?, ?, ?, ?, ?, ?, ?, ?, ?, ?, ?, ?, ?, ?, ?)', (f, x, y, z, a, b, d, e, g, h, i, j, k, l, m, n, o, p, q))\n",
    "\n",
    "conn.commit()\n",
    "\n",
    "# query 1\n",
    "c.execute(\"select * from texts where PSS='1' and PHI='2s'\") # Return all NPs marked with POSS.2SG from the compound table to make sure that the table was created properly\n",
    "print(c.fetchall())\n"
   ]
  },
  {
   "cell_type": "markdown",
   "metadata": {},
   "source": [
    "At this point it can be clearly seen that there's an issue with Khanty-specific character encoding, but luckily this is irrelevant for our purposes, so I'm leaving it the way it is.\n",
    "\n",
    "Four of the hypotheses in our project were that 1&2) POSS.2SG or POSS.3SG marked NPs are always referential, 3) POSS.3SG marked NPs are not always definite, 4) POSS.2SG marked NPs are always definite.\n",
    "\n",
    "We can check that by selecting for appropriately marked NPs and their DEF and REF values (where 1 means definite/referential and 0 vice versa)."
   ]
  },
  {
   "cell_type": "code",
   "execution_count": 3,
   "metadata": {},
   "outputs": [
    {
     "name": "stdout",
     "output_type": "stream",
     "text": [
      "[('KS01901', 'xɔt -en', 'дом 2SG', '2s', 1, 1), ('KS04401', 'jiwewe -n', 'сводная сестра 2SG', '2s', 1, 1), ('KS06001', 'pox -en', 'сын 2SG', '2s', 0, 0), ('KS06601', 'pox -en', 'сын 2SG', '2s', 0, 0), ('KS07201', 'pox -en', 'сын 2SG', '2s', 0, 0), ('KS09101', 'pox -en', 'сын 2SG', '2s', 0, 0), ('KS10201', 'pox -en', 'сын 2SG', '2s', 0, 0), ('KS13703', 'pox -en -a', 'вы сын 2SG DAT', '2s', 1, 1), ('KS14301', 'put -en', 'котел 2SG', '2s', 1, 1), ('KS14304', 'xɔt -en', 'дом 2SG', '2s', 1, 1), ('KS15001', 'put -en', 'котел 2SG', '2s', 1, 1), ('KS15004', 'xɔt -en', 'дом 2SG', '2s', 1, 1), ('KS15703', 'tut -en', 'огонь 2SG', '2s', 0, 1), ('KS15704', 'put -en', ' котел 2SG', '2s', 1, 1), ('MT00801', 'ewe -n', 'дочь 2SG', '2s', 1, 1), ('MT05802', 'sapł -en -a', 'шея 2SG DAT', '2s', 1, 1), ('MT05901', 'šarp -en', 'этот шарф 2SG', '2s', 1, 1), ('MT07901', 'wurśək -leŋke -n -ən', 'трясогузка DIM 2SG LOC', '2s', 1, 1), ('MT08003', 'mewł -en', 'грудь 2SG', '2s', 1, 1), ('MT08004', 'jintəp -en', 'семь игла 2SG', '2s', 1, 1), ('MT08101', 'wurśək -leŋke -n', 'трясогузка DIM 2SG', '2s', 1, 1), ('MT08401', 'wurśək -leŋke -n', 'трясогузка DIM 2SG', '2s', 1, 1), ('MT09605', 'wɔš -en', 'солнце царь город 2SG', '2s', 1, 1), ('MT09802', 'jɔx -ł -an', 'война люди PL 2SG', '2s', 1, 1), ('MT09902', 'jintəp -ł -an', 'игла PL 2SG', '2s', 1, 1), ('MT10404', 'jɔx -ł -an', 'этот война люди PL 2SG', '2s', 1, 1), ('MT10901', 'ime -n', 'этот женщина 2SG', '2s', 1, 1), ('MT11003', 'ike -n', 'небо царь мужчина 2SG', '2s', 1, 1), ('MT12102', 'śi xǫ -j -ł', 'этот мужчина STEM PL 2SG', '2s', 1, 1)]\n"
     ]
    }
   ],
   "source": [
    "# query 2\n",
    "\n",
    "c.execute(\"select NP_ID, Noun, NP_Gloss, PHI, DEF, REF from texts where PSS='1' and PHI='2s'\") # Return all NPs marked with POSS.2SG from the compound table\n",
    "print(c.fetchall())"
   ]
  },
  {
   "cell_type": "markdown",
   "metadata": {},
   "source": [
    "We can see that all instances of POSS.2SG marked NPs are both definite and referential except for several instances of 'son' (items KS06001, KS06601, KS07201, KS09101, KS10201). This reveals that our hypotheses is wrong. Upon checking the texts themselves it is revealed that in all these cases the NP in question is part of an antecedent of a counterfactual conditional sentence \"If this were a son-POSS.2SG born of me....\". It is not at all clear that in this case the appropriate translation is not \"If this son was born of me...\" were the referent *is* definite and referential. Maybe, this is a result of faulty mark-up or our hypotheses have to be amended with respect to counterfactual conditionals. Anyways, our queries resulted in food for discussion of the project."
   ]
  },
  {
   "cell_type": "code",
   "execution_count": 4,
   "metadata": {},
   "outputs": [
    {
     "name": "stdout",
     "output_type": "stream",
     "text": [
      "[('KS00102', 'jiwewe -ł -na', 'сводная сестра 3SG LOC', '3s', 1, 1), ('KS00203', 'jiwpox -əł', 'сводный брат 3SG', '3s', 1, 1), ('KS00701', 'jiwpox -əł', 'сводный брат 3SG', '3s', 1, 1), ('KS01101', 'jiwpox -əł', 'сводный брат DAT', '3s', 1, 1), ('KS01103', 'jiwewe -ł', 'сводная сестра 3SG', '3s', 1, 1), ('KS01401', 'nԑŋ -əł -ən', 'один женщина 3SG LOC', '3s', 1, 1), ('KS01402', 'ox -əł', 'голова 3SG', '3s', 1, 1), ('KS01501', 'nԑŋ -əł', 'один женщина 3SG', '3s', 1, 1), ('KS01701', 'xǫ -j -əł', 'один мужчина STEM 3SG', '3s', 1, 1), ('KS01702', 'jiwpox -əł', 'сводный брат 3SG', '3s', 1, 1), ('KS01801', 'jiwpox -əł', 'сводный брат 3SG', '3s', 1, 1), ('KS02001', 'jiwpox -əł', 'сводный брат 3SG', '3s', 1, 1), ('KS02102', 'jiwpox -əł', 'сводный брат 3SG', '3s', 1, 1), ('KS02201', 'jiwpox -əł', 'сводный брат 3SG', '3s', 1, 1), ('KS02203', 'xǫ -j -əł', 'тот же мужчина 3SG', '3s', 1, 1), ('KS02301', 'nԑŋ -əł', 'женщина 3SG', '3s', 1, 1), ('KS02501', 'nԑŋ -əł -ən', 'один женщина 3SG LOC', '3s', 1, 1), ('KS02502', 'ox -əł', 'голова 3SG', '3s', 1, 1), ('KS02601', 'nԑŋ -əł', 'один женщина 3SG', '3s', 1, 1), ('KS02901', 'jiwpox -əł', 'сводный брат 3SG', '3s', 1, 1), ('KS03001', 'jiwpox -əł', 'сводный брат 3SG', '3s', 1, 1), ('KS03202', 'jiwpox -əł', 'сводный брат 3SG', '3s', 1, 1), ('KS03301', 'jiwpox -əł', 'сводный брат 3SG', '3s', 1, 1), ('KS03303', 'xǫ -j -əł', 'тот же мужчина 3SG', '3s', 1, 1), ('KS03401', 'nԑŋ -əł', 'один женщина 3SG', '3s', 1, 1), ('KS03701', 'ox -əł', 'голова 3SG', '3s', 1, 1), ('KS03702', 'nԑŋ -əł', 'один женщина 3SG', '3s', 1, 1), ('KS04001', 'xǫ -j -əł', 'один мужчина STEM 3SG', '3s', 1, 1), ('KS04101', 'jiwpox -əł', 'сводный брат 3SG', '3s', 1, 1), ('KS04201', 'jiwpox -əł', 'сводный брат 3SG', '3s', 1, 1), ('KS04202', 'wԑŋ -əł', 'зять 3SG', '3s', 1, 1), ('KS04301', 'wԑŋ -əł', 'зять 3SG', '3s', 1, 1), ('KS04303', 'up -əł', 'тесть 3SG', '3s', 1, 1), ('KS04501', 'jiwpox -əł', 'сводный брат 3SG', '3s', 1, 1), ('KS04701', 'kaš -əł', 'он желание 3SG', '3s', 0, 0), ('KS04901', 'xǫ -j -əł -ən', 'один мужчина STEM 3SG LOC', '3s', 1, 1), ('KS05101', 'kǫrt -əł -a', 'он деревня 3SG DAT', '3s', 1, 1), ('KS05102', 'wɔš -əł -a', 'он город 3SG DAT', '3s', 1, 1), ('KS05103', 'xɔt -əł -a', 'дом 3SG DAT', '3s', 1, 1), ('KS05105', 'ime -ł', 'жена 3SG', '3s', 1, 1), ('KS05203', 'păłatte -ł -ən', 'рост ATTR женщина рост 3SG LOC', '3s', 0, 0), ('KS05301', 'ime -ł', 'жена 3SG', '3s', 1, 1), ('KS05401', 'pox -leŋke -ł', 'сын DIM 3SG', '3s', 1, 1), ('KS05601', 'aŋke -ł -ən', 'мать 3SG LOC', '3s', 1, 1), ('KS05702', 'pox -əł', 'мальчик 3SG', '3s', 1, 1), ('KS05801', 'ɔjka -j -əł', 'мужичок STEM 3SG', '3s', 1, 1), ('KS05802', 'ime -ł', 'жена 3SG', '3s', 1, 1), ('KS06101', 'aśe -ł -ən', 'отец 3SG LOC', '3s', 1, 1), ('KS06203', 'aŋke -ł -ən', 'мать 3SG LOC', '3s', 1, 1), ('KS06303', 'pox -əł', 'сын 3SG', '3s', 1, 1), ('KS06401', 'ɔjka -j -əł', 'мужичок STEM 3SG', '3s', 1, 1), ('KS06402', 'ime -ł', 'жена 3SG', '3s', 1, 1), ('KS06701', 'aśe -ł -ən', 'отец 3SG LOC', '3s', 1, 1), ('KS06803', 'aŋke -ł -ən', 'мать 3SG LOC', '3s', 1, 1), ('KS06903', 'pox -əł', 'сын 3SG', '3s', 1, 1), ('KS07001', 'ɔjka -j -əł', 'мужичок STEM 3SG', '3s', 1, 1), ('KS07401', 'pox -əł', 'сын 3SG', '3s', 1, 1), ('KS08005', 'jɔx -ł -ał', 'люди PL 3SG', '3s', 0, 0), ('KS08006', 'pԑlk -əł', 'один сторона 3SG', '3s', 0, 1), ('KS08101', 'sԑm -əł', 'голова 3SG глаз 3SG', '3s', 1, 1), ('KS08301', 'jɔx -ł -ał', 'люди PL 3SG', '3s', 0, 1), ('KS08706', 'jɔx -ł -ał', 'люди PL 3SG', '3s', 0, 0), ('KS08707', 'pԑlk -əł', 'один половина 3SG', '3s', 0, 1), ('KS08801', 'ox -əł sԑm -əł', 'голова 3SG глаз 3SG', '3s', 1, 1), ('KS08901', 'aśe -ł', 'отец 3SG', '3s', 1, 1), ('KS08902', 'ime -ł', 'жена 3SG', '3s', 1, 1), ('KS09203', 'jɔx -ł -ał', 'люди PL 3SG', '3s', 0, 0), ('KS09204', 'pԑlk -əł', 'один половина 3SG', '3s', 0, 1), ('KS09403', 'jɔx -ł -ał', 'люди PL 3SG', '3s', 0, 0), ('KS09803', 'jɔx -ł -ał', 'люди PL 3SG', '3s', 0, 0), ('KS09804', 'pԑlk -əł', 'один половина 3SG', '3s', 0, 1), ('KS09901', 'ox -əł sԑm -əł', 'голова 3SG глаз 3SG', '3s', 1, 1), ('KS10001', 'aśe -ł', 'отец 3SG', '3s', 1, 1), ('KS10303', 'jɔx -ł -ał', 'люди PL 3SG', '3s', 0, 0), ('KS10401', 'aśe -ł', 'отец 3SG', '3s', 1, 1), ('KS10402', 'pox -əł', 'отец 3SG сын 3SG', '3s', 1, 1), ('KS10801', 'jiwpox -əł', 'сводный брат 3SG', '3s', 1, 1), ('KS11103', 'jiwpox -ł -ał', 'сводный брат PL 3SG', '3s', 1, 1), ('KS11401', 'jiwpox -ł -ał', 'сводный брат PL 3SG', '3s', 1, 1), ('KS11402', 'ɔntəp -əł', 'люлька 3SG', '3s', 1, 1), ('KS11404', 'ɔntəp -əł -a', 'люлька 3SG DAT', '3s', 1, 1), ('KS12201', 'ɔntəp -əł', 'люлька 3SG', '3s', 1, 1), ('KS12402', 'kałtəŋ -əł -a', 'город пристань 3SG DAT', '3s', 0, 1), ('KS12501', 'xɔt -əł -a', 'дом 3SG DAT', '3s', 1, 1), ('KS12701', 'aśe -ł', 'отец 3SG', '3s', 1, 1), ('KS13001', 'aśe -ł', 'отец 3SG', '3s', 1, 1), ('KS13004', 'pox -əł', 'сын 3SG', '3s', 1, 1), ('KS13301', 'pox -əł', 'сын 3SG', '3s', 1, 1), ('KS13602', 'jɔx -ł -ał', 'дом LOC люди PL 3SG', '3s', 1, 1), ('KS13901', 'xɔt -əł -ən', 'дом 3SG LOC', '3s', 1, 1), ('KS14101', 'nore -ł -ən', 'нары 3SG LOC', '3s', 0, 1), ('KS14302', 'păte -ł', 'котел 2SG дно 3SG', '3s', 1, 1), ('KS14305', 'suŋ -əł', 'угол 3SG', '3s', 1, 1), ('KS14401', 'śiśki -leŋke -ł', 'воробей DIM 3SG', '3s', 0, 0), ('KS14801', 'śiśki -leŋke -ł', 'воробей DIM 3SG', '3s', 1, 1), ('KS15002', 'păte -ł', 'котел 2SG дно 3SG', '3s', 1, 1), ('KS15005', 'suŋ -əł', 'угол 3SG', '3s', 1, 1), ('KS15101', 'śiśki -leŋke -ł', 'воробей DIM 3SG', '3s', 1, 1), ('KS15401', 'nore -ł -a', 'нары 3SG DAT', '3s', 1, 1), ('KS15501', 'śiśki -leŋke -ł', 'воробей DIM 3SG', '3s', 1, 1), ('KS15705', 'păte -ł', 'котел 2SG дно 3SG', '3s', 1, 1), ('KS15802', 'ɔw -əł', 'дверь 3SG', '3s', 1, 1), ('KS15903', 'tut -əł', 'огонь 3SG', '3s', 0, 1), ('KS16002', 'aśe -ł', 'небо отец 3SG', '3s', 1, 1), ('KS16103', 'aśe -ł -ən', 'верх небо отец 3SG LOC', '3s', 1, 1), ('KS16201', 'aśe -ł', 'отец 3SG', '3s', 1, 1), ('KS16202', 'łăxər -əł', 'отец 3SG кольчуга 3SG', '3s', 1, 1), ('KS16303', 'ԑł -əł', 'голый тело 3SG', '3s', 0, 0), ('KS16503', 'mir -əł', 'народ 3SG', '3s', 0, 0), ('KS16602', 'jɔš -əł', 'правый сторона рука 3SG', '3s', 1, 1), ('KS16604', 'kur -əł', 'левый сторона нога 3SG', '3s', 1, 1), ('KS16702', 'jɔš -əł -a', 'правый сторона рука 3SG DAT', '3s', 1, 1), ('KS16707', 'jɔš -əł -a', 'правый сторона рука 3SG DAT', '3s', 1, 1), ('KS17001', 'ime -ł', 'жена 3SG', '3s', 1, 1), ('KS17401', 'jǫxł -əł', 'лук 3SG', '3s', 0, 1), ('KS17801', 'xɔp -ł -a', 'лодка 3SG DAT', '3s', 1, 1), ('KS17901', 'kǫrt -əł -a', 'деревня 3SG DAT', '3s', 1, 1), ('KS18001', 'aŋke -ł', 'мать 3SG', '3s', 1, 1), ('KS18101', 'ime -ł', 'жена 3SG', '3s', 1, 1), ('KS18202', 'łowatte -ł -ən', 'величина ATTR женщина величина 3SG LOC', '3s', 0, 1), ('KS18204', 'păłatte -ł -ən', 'рост ATTR женщина рост 3SG LOC', '3s', 0, 1), ('KS18502', 'śuń -əł xǫł -əł -ən', 'этот счастье 3SG благосостояние 3SG LOC', '3s', 1, 1), ('MT00703', 'xǫ -j -əł', 'солнце выйти IPFV.PART сторона мужчина STEM 3SG', '3s', 1, 1), ('MT01401', 'pox -əł', 'сын 3SG', '3s', 1, 1), ('MT01501', 'aśe -ł -ən', 'отец 3SG LOC', '3s', 1, 1), ('MT02201', 'pox -əł', 'сын 3SG', '3s', 1, 1), ('MT02202', 'aśe -ł', 'отец 3SG', '3s', 1, 1), ('MT02501', 'aśe -ł', 'отец 3SG', '3s', 1, 1), ('MT02502', 'wej -əł', 'кисы 3SG', '3s', 1, 1), ('MT02503', 'pox -əł', 'сын 3SG', '3s', 1, 1), ('MT02601', 'pԑlək -ł -a', 'сторона 3SG DAT', '3s', 1, 1), ('MT02606', 'niməł -ŋəł', 'охотничьи лыжи DU.POSS', '3s', 1, 1), ('MT02701', 'pox -əł', 'сын 3SG', '3s', 1, 1), ('MT03001', 'ńań -əł', 'один хлеб 3SG', '3s', 0, 1), ('MT03002', 'xir -əł', 'продукты в дорогу ADJ мешок 3SG', '3s', 1, 1), ('MT03201', 'ńań -əł', 'второй хлеб 3SG', '3s', 0, 1), ('MT03202', 'xir -əł', 'продукты в дорогу ADJ мешок 3SG', '3s', 1, 1), ('MT03601', 'ńań -əł', 'хлеб 3SG', '3s', 1, 1), ('MT03801', 'xǫ -j -əł', 'этот мужчина STEM 3SG', '3s', 1, 1), ('MT03901', 'ńɔł -əł', 'стрела 3SG', '3s', 1, 1), ('MT04202', 'ńoł -əł -ən', 'клюв 3SG LOC', '3s', 1, 1), ('MT04306', 'sawnԑ -leŋke -ł', 'сорока DIM 3SG', '3s', 1, 1), ('MT04502', 'pɔxl -əł', 'нить клубок 3SG', '3s', 1, 1), ('MT04901', 'śɔrs -əł', 'река ATTR море 3SG', '3s', 1, 1), ('MT05001', 'kǫs -əł', 'сила 3SG', '3s', 0, 0), ('MT05202', 'mewł -əł -ən', 'грудь 3SG LOC', '3s', 1, 1), ('MT05301', 'xǫ -j -əł', 'этот мужчина STEM 3SG', '3s', 1, 1), ('MT05401', 'wurśək -leŋke -ł', 'трясогузка DIM 3SG', '3s', 1, 1), ('MT06101', 'ime -ł', 'жена 3SG', '3s', 1, 1), ('MT06201', 'ime -ł', 'жена 3SG', '3s', 1, 1), ('MT06302', 'suŋ -əł', 'три дом угол 3SG', '3s', 0, 1), ('MT06304', 'suŋ -əł', 'один дом угол 3SG', '3s', 0, 1), ('MT06802', 'toxł -əł', 'крыло 3SG', '3s', 1, 1), ('MT07501', 'xǫ -j -əł', 'мужчина STEM 3SG', '3s', 1, 1), ('MT07702', 'mewł -əł', 'грудь 3SG', '3s', 1, 1), ('MT07802', 'jintəp -əł', 'семь игла 3SG', '3s', 1, 1), ('MT07803', 'xǫ -j -əł -ən', 'мужчина STEM 3SG LOC', '3s', 1, 1), ('MT08009', 'păti -ł -ał', 'этот война люди нога дно PL 3SG', '3s', 1, 1), ('MT08010', 'jɔš -ł -ał', 'рука PL 3SG', '3s', 1, 1), ('MT08201', 'xǫ -j -əł', 'мужчина STEM 3SG', '3s', 1, 1), ('MT08301', 'xǫ -j -əł', 'мужчина STEM 3SG', '3s', 1, 1), ('MT08504', 'păti -ł -ał', 'этот война люди нога дно PL 3SG', '3s', 1, 1), ('MT08505', 'jɔš -ł -ał', 'рука PL 3SG', '3s', 1, 1), ('MT08601', 'jɔx -ł -ał', 'этот люди PL 3SG', '3s', 1, 1), ('MT08901', 'wurśək -leŋke -ł', 'трясогузка DIM 3SG', '3s', 1, 1), ('MT09101', 'jintəp -əł', 'семь игла 3SG', '3s', 1, 1), ('MT09204', 'păti -ł -ał', 'война люди нога дно PL 3SG', '3s', 1, 1), ('MT09205', 'jɔš -ł -ał', 'рука PL 3SG', '3s', 1, 1), ('MT09301', 'jɔx -ł -ał -ən', 'этот люди PL 3SG LOC', '3s', 1, 1), ('MT09601', 'xǫ -j -əł', 'мужчина STEM 3SG', '3s', 1, 1), ('MT09602', 'wurśək -leŋke -ł -ən', 'трясогузка DIM 3SG LOC', '3s', 1, 1), ('MT10504', 'jɔx -ł -ał', 'этот люди PL 3SG', '3s', 1, 1), ('MT10601', 'ɔw -əł', 'дверь 3SG', '3s', 1, 1), ('MT10801', 'ime -ł', 'жена 3SG', '3s', 1, 1), ('MT10804', 'ike -ł', 'небо царь мужчина 3SG', '3s', 1, 1), ('MT10805', 'łăŋkər -ŋəł', 'плечо DU.POSS', '3s', 1, 1), ('MT11004', 'ime -ł', 'жена 3SG', '3s', 1, 1), ('MT11201', 'ime -ł', 'жена 3SG', '3s', 1, 1), ('MT11601', 'śarka -j -əł', 'чарка STEM 3SG', '3s', 1, 1), ('MT11701', 'sapł -əł', 'шея 3SG', '3s', 1, 1), ('MT11801', 'jintəp -ł -ał -a', 'этот игла PL 3SG DAT', '3s', 1, 1), ('MT11803', 'jintəp -ł -ał', 'этот игла PL 3SG', '3s', 1, 1), ('MT11805', 'jɔx -ł -ał', 'война люди PL 3SG', '3s', 1, 1), ('MT12001', 'jintəp -ł -ał', 'игла PL 3SG', '3s', 1, 1), ('MT12002', 'wurśək -leŋke -ł', 'трясогузка DIM 3SG', '3s', 1, 1), ('MT12004', 'noms -əł -a', 'мысль 3SG DAT', '3s', 0, 0), ('MT12206', 'jɔx -ł -ał', 'война люди PL 3SG', '3s', 1, 1), ('MT12502', 'jɔx -ł -ał', 'война люди PL 3SG', '3s', 1, 1), ('MT12602', 'jɔx -ł -ał', 'война люди PL 3SG', '3s', 1, 1), ('MT12807', 'ike -ł -a', 'муж 3SG DAT', '3s', 1, 1)]\n"
     ]
    }
   ],
   "source": [
    "# query 3\n",
    "\n",
    "c.execute(\"select NP_ID, Noun, NP_Gloss, PHI, DEF, REF from texts where PSS='1' and PHI='3s'\") # Return all NPs marked with POSS.3SG from the compound table to make sure that the table was created properly\n",
    "print(c.fetchall())"
   ]
  },
  {
   "cell_type": "markdown",
   "metadata": {},
   "source": [
    "Here it would seem we also find some contradictions to our hypotheses. Since there's too much data, let's single them out. I won't discuss them here, but we certainly will have to look at them in more detail in future work on the project."
   ]
  },
  {
   "cell_type": "code",
   "execution_count": 5,
   "metadata": {},
   "outputs": [
    {
     "name": "stdout",
     "output_type": "stream",
     "text": [
      "[('KS04701', 'kaš -əł', 'он желание 3SG', '3s', 0, 0), ('KS05203', 'păłatte -ł -ən', 'рост ATTR женщина рост 3SG LOC', '3s', 0, 0), ('KS08005', 'jɔx -ł -ał', 'люди PL 3SG', '3s', 0, 0), ('KS08706', 'jɔx -ł -ał', 'люди PL 3SG', '3s', 0, 0), ('KS09203', 'jɔx -ł -ał', 'люди PL 3SG', '3s', 0, 0), ('KS09403', 'jɔx -ł -ał', 'люди PL 3SG', '3s', 0, 0), ('KS09803', 'jɔx -ł -ał', 'люди PL 3SG', '3s', 0, 0), ('KS10303', 'jɔx -ł -ał', 'люди PL 3SG', '3s', 0, 0), ('KS14401', 'śiśki -leŋke -ł', 'воробей DIM 3SG', '3s', 0, 0), ('KS16303', 'ԑł -əł', 'голый тело 3SG', '3s', 0, 0), ('KS16503', 'mir -əł', 'народ 3SG', '3s', 0, 0), ('MT05001', 'kǫs -əł', 'сила 3SG', '3s', 0, 0), ('MT12004', 'noms -əł -a', 'мысль 3SG DAT', '3s', 0, 0)]\n"
     ]
    }
   ],
   "source": [
    "# query 4\n",
    "\n",
    "c.execute(\"select NP_ID, Noun, NP_Gloss, PHI, DEF, REF from texts where PSS='1' and PHI='3s' and REF = 0\") # Return all non-referential NPs marked with POSS.3SG from the compound table\n",
    "print(c.fetchall())"
   ]
  },
  {
   "cell_type": "markdown",
   "metadata": {},
   "source": [
    "Let's compare the counts for distinct possessive marking and unmarked NPs in the compound text and in each text."
   ]
  },
  {
   "cell_type": "code",
   "execution_count": 6,
   "metadata": {},
   "outputs": [
    {
     "name": "stdout",
     "output_type": "stream",
     "text": [
      "[('1p', 6), ('1s', 12), ('2/3d', 12), ('2s', 29), ('3d', 1), ('3p', 13), ('3s', 198), ('i', 2), ('n', 528)]\n",
      "[('1p', 5), ('1s', 8), ('2/3d', 6), ('2s', 14), ('3d', 1), ('3p', 3), ('3s', 130), ('n', 264)]\n",
      "[('1p', 1), ('1s', 4), ('2/3d', 6), ('2s', 15), ('3p', 10), ('3s', 68), ('i', 2), ('n', 264)]\n"
     ]
    }
   ],
   "source": [
    "# query 5\n",
    "\n",
    "c.execute(\"select PHI, count(PHI) as Mark_Freq from texts group by PHI\") # Return all non-referential NPs marked with POSS.3SG from the compound table\n",
    "print(c.fetchall())\n",
    "c.execute(\"select PHI, count(PHI) as Mark_Freq from text1 group by PHI\") # Return all non-referential NPs marked with POSS.3SG from the compound table\n",
    "print(c.fetchall())\n",
    "c.execute(\"select PHI, count(PHI) as Mark_Freq from text2 group by PHI\") # Return all non-referential NPs marked with POSS.3SG from the compound table\n",
    "print(c.fetchall())"
   ]
  },
  {
   "cell_type": "markdown",
   "metadata": {},
   "source": [
    "We can see that the unmarked strategy is the most common one, the POSS.3SG marking is the second most common, and the POSS.2SG marking is really an outlier with only 29 items. Intuitively, there doesn't seem to be a pronounced difference in marking strategy frequencies between the two texts.\n",
    "\n",
    "Let's consider which strategy is the most common for definite NPs."
   ]
  },
  {
   "cell_type": "code",
   "execution_count": 7,
   "metadata": {},
   "outputs": [
    {
     "name": "stdout",
     "output_type": "stream",
     "text": [
      "[('1p', 3), ('1s', 12), ('2/3d', 10), ('2s', 23), ('3p', 4), ('3s', 170), ('i', 2), ('n', 266)]\n"
     ]
    }
   ],
   "source": [
    "# query 6\n",
    "\n",
    "c.execute(\"select PHI, count(PHI) as Mark_Freq from texts where DEF = 1 group by PHI\") # Return all non-referential NPs marked with POSS.3SG from the compound table\n",
    "print(c.fetchall())"
   ]
  },
  {
   "cell_type": "markdown",
   "metadata": {},
   "source": [
    "Surprisingly, the counts are quite similar for all possessives, but the unmarked strategy saw a decrease by around 250 items. This means that indefinite NPs are almost always unmarked (with but a few ones marked with some possessives, we'll have to check that). On the other hand most marked NPs are definite (with only a few marked being indefinite, we'll have to check that too).\n",
    "\n",
    "Now, let's first plot our hypotheses for POSS.2SG and POSS.3SG. We want to see whether there are indefinites marked with these strategies."
   ]
  },
  {
   "cell_type": "code",
   "execution_count": 9,
   "metadata": {},
   "outputs": [],
   "source": [
    "import matplotlib.pyplot as plt\n",
    "%matplotlib inline"
   ]
  },
  {
   "cell_type": "code",
   "execution_count": 11,
   "metadata": {},
   "outputs": [
    {
     "data": {
      "image/png": "[encoded data removed]",
      "text/plain": [
       "<Figure size 432x288 with 1 Axes>"
      ]
     },
     "metadata": {
      "needs_background": "light"
     },
     "output_type": "display_data"
    }
   ],
   "source": [
    "# PLOTS\n",
    "\n",
    "# plot 1\n",
    "c.execute(\"select PHI, DEF from texts\") # Return all NPs' PHI and DEF values\n",
    "X = []\n",
    "Y = []\n",
    "for item in c.fetchall(): # Make two distinct sets, the first containing PHI values, the second containing DEF values\n",
    "    new_X = item[0]\n",
    "    new_Y = item[1]\n",
    "    X.append(new_X)\n",
    "    Y.append(new_Y)\n",
    "\n",
    "plt.scatter(X, Y, color='purple', label='group 1') # changing the color, adding labels\n",
    "plt.title('Definiteness and marking') # the title\n",
    "plt.ylabel('Definiteness')\n",
    "plt.xlabel('Marking strategy')\n",
    "plt.legend(loc='best') # the legend is located automatically in the best possible place\n",
    "plt.show()"
   ]
  },
  {
   "cell_type": "markdown",
   "metadata": {},
   "source": [
    "We don't see any interesting results here, that we didn't see before, but once we fix the issues discussed above, there should be no dot at x = '2s' and y = 0.\n",
    "\n",
    "Let's plot the frequencies of these strategies for definites and for indefinites."
   ]
  },
  {
   "cell_type": "code",
   "execution_count": 20,
   "metadata": {},
   "outputs": [
    {
     "name": "stdout",
     "output_type": "stream",
     "text": [
      "[3, 12, 10, 23, 4, 170, 2, 266]\n",
      "['1p', '1s', '2/3d', '2s', '3p', '3s', 'i', 'n']\n"
     ]
    },
    {
     "data": {
      "image/png": "[encoded data removed]",
      "text/plain": [
       "<Figure size 432x288 with 1 Axes>"
      ]
     },
     "metadata": {
      "needs_background": "light"
     },
     "output_type": "display_data"
    }
   ],
   "source": [
    "# plot 2\n",
    "c.execute(\"select PHI, count(PHI) from texts where DEF = 1 group by PHI\") # Return all definite NPs' PHI values and PHI counts\n",
    "X = []\n",
    "Y = []\n",
    "for item in c.fetchall(): # Make two distinct sets, the first containing PHI values, the second containing PHI counts\n",
    "    new_X = item[0]\n",
    "    new_Y = item[1]\n",
    "    Y.append(new_Y)\n",
    "    X.append(new_X)\n",
    "\n",
    "plt.bar(X, Y, color='blue')\n",
    "plt.title('Frequency of marking strategies for definites')\n",
    "plt.ylabel('Count')\n",
    "plt.xlabel('Marking strategy')\n",
    "plt.show()"
   ]
  },
  {
   "cell_type": "code",
   "execution_count": 22,
   "metadata": {},
   "outputs": [
    {
     "name": "stdout",
     "output_type": "stream",
     "text": [
      "[3, 2, 6, 1, 9, 28, 262]\n",
      "['1p', '2/3d', '2s', '3d', '3p', '3s', 'n']\n"
     ]
    },
    {
     "data": {
      "image/png": "[encoded data removed]",
      "text/plain": [
       "<Figure size 432x288 with 1 Axes>"
      ]
     },
     "metadata": {
      "needs_background": "light"
     },
     "output_type": "display_data"
    }
   ],
   "source": [
    "# plot 3\n",
    "c.execute(\"select PHI, count(PHI) from texts where DEF = 0 group by PHI\") # Return all indefinite NPs' PHI values and PHI counts\n",
    "X = []\n",
    "Y = []\n",
    "for item in c.fetchall(): # Make two distinct sets, the first containing PHI values, the second containing PHI counts\n",
    "    new_X = item[0]\n",
    "    new_Y = item[1]\n",
    "    Y.append(new_Y)\n",
    "    X.append(new_X)\n",
    "\n",
    "plt.bar(X, Y, color='red')\n",
    "plt.title('Frequency of marking strategies for indefinites')\n",
    "plt.ylabel('Count')\n",
    "plt.xlabel('Marking strategy')\n",
    "plt.show()"
   ]
  },
  {
   "cell_type": "markdown",
   "metadata": {},
   "source": [
    "Again, we can see that for indefinites the clearly preferred strategy is the unmarked one, while for definites there is a preference for the unmarked one too, but POSS.3SG marking is also quite frequent.\n",
    "\n",
    "Overall, we can see that possessive marking does not necessarily mark definiteness.\n",
    "\n",
    "Another parameter that we have not concerned ourselves with before is the type of relation denoted by the possessive. Let's plot them to see which ones are most frequent.\n",
    "\n",
    "We can expect that non-possessive \"discourse\" possessive marking (labeled \"dis\" in our data) will be more frequent (as it is expected to deal with rather frequent notions such as definiteness or familiarity or discourse prominence) than all other (proper possessive) marking (bod — body part, fam — relative, rel — social relations, prt — part-whole, own — ownership, oth — other proper possessive relations."
   ]
  },
  {
   "cell_type": "code",
   "execution_count": 23,
   "metadata": {},
   "outputs": [
    {
     "name": "stdout",
     "output_type": "stream",
     "text": [
      "[34, 84, 72, 26, 31, 10]\n",
      "['bod', 'dis', 'fam', 'oth', 'own', 'prt']\n"
     ]
    },
    {
     "data": {
      "image/png": "[encoded data removed]",
      "text/plain": [
       "<Figure size 432x288 with 1 Axes>"
      ]
     },
     "metadata": {
      "needs_background": "light"
     },
     "output_type": "display_data"
    }
   ],
   "source": [
    "# plot 4\n",
    "c.execute(\"select SEM, count(SEM) from texts where PSS = 1 group by SEM\") # Return all POSS-marked NPs' SEM values and SEM counts\n",
    "X = []\n",
    "Y = []\n",
    "for item in c.fetchall(): # Make two distinct sets, the first containing SEM values, the second containing SEM counts\n",
    "    new_X = item[0]\n",
    "    new_Y = item[1]\n",
    "    Y.append(new_Y)\n",
    "    X.append(new_X)\n",
    "\n",
    "plt.bar(X, Y, color='cyan')\n",
    "plt.title('Frequency of marking strategies for indefinites')\n",
    "plt.ylabel('Count')\n",
    "plt.xlabel('Marking strategy')\n",
    "plt.show()"
   ]
  },
  {
   "cell_type": "code",
   "execution_count": null,
   "metadata": {},
   "outputs": [],
   "source": [
    "conn.close()"
   ]
  },
  {
   "cell_type": "markdown",
   "metadata": {},
   "source": [
    "Indeed, we find that non-possessive possessive marking is the most frequent one, although, family relations marking (\"fam\") is also quite frequent."
   ]
  },
  {
   "cell_type": "markdown",
   "metadata": {},
   "source": [
    "For the final project I plan to create a crowler that will download all the articles from the Demagog journal (https://teletype.in/@demagog) and put them in a dataset with meta-information such as hashtags or author name in different columns. Then I will make several plots, for example, depicting frequencies of different authors, different themes, maybe, also these frequencies relative to time (at which period which author wrote the most), wordclouds for different authors, maybe, something else."
   ]
  }
 ],
 "metadata": {
  "kernelspec": {
   "display_name": "Python 3",
   "language": "python",
   "name": "python3"
  },
  "language_info": {
   "codemirror_mode": {
    "name": "ipython",
    "version": 3
   },
   "file_extension": ".py",
   "mimetype": "text/x-python",
   "name": "python",
   "nbconvert_exporter": "python",
   "pygments_lexer": "ipython3",
   "version": "3.8.6rc1"
  }
 },
 "nbformat": 4,
 "nbformat_minor": 4
}
